{
 "cells": [
  {
   "cell_type": "code",
   "execution_count": 1,
   "id": "907e40c7",
   "metadata": {},
   "outputs": [
    {
     "name": "stdout",
     "output_type": "stream",
     "text": [
      "Collecting package metadata (current_repodata.json): done\n",
      "Solving environment: done\n",
      "\n",
      "## Package Plan ##\n",
      "\n",
      "  environment location: /Users/akallaku/opt/anaconda3\n",
      "\n",
      "  added / updated specs:\n",
      "    - faiss-cpu\n",
      "\n",
      "\n",
      "The following packages will be downloaded:\n",
      "\n",
      "    package                    |            build\n",
      "    ---------------------------|-----------------\n",
      "    conda-23.1.0               |   py39hecd8cb5_0         938 KB\n",
      "    faiss-cpu-1.7.3            |py3.9_h20d5d5c_0_cpu         2.3 MB  pytorch\n",
      "    libfaiss-1.7.3             |   h0a76292_0_cpu         2.6 MB  pytorch\n",
      "    ruamel.yaml-0.17.21        |   py39hca72f7f_0         179 KB\n",
      "    ruamel.yaml.clib-0.2.6     |   py39hca72f7f_1         126 KB\n",
      "    ------------------------------------------------------------\n",
      "                                           Total:         6.1 MB\n",
      "\n",
      "The following NEW packages will be INSTALLED:\n",
      "\n",
      "  faiss-cpu          pytorch/osx-64::faiss-cpu-1.7.3-py3.9_h20d5d5c_0_cpu None\n",
      "  libfaiss           pytorch/osx-64::libfaiss-1.7.3-h0a76292_0_cpu None\n",
      "  ruamel.yaml        pkgs/main/osx-64::ruamel.yaml-0.17.21-py39hca72f7f_0 None\n",
      "  ruamel.yaml.clib   pkgs/main/osx-64::ruamel.yaml.clib-0.2.6-py39hca72f7f_1 None\n",
      "\n",
      "The following packages will be UPDATED:\n",
      "\n",
      "  conda                               22.9.0-py39hecd8cb5_0 --> 23.1.0-py39hecd8cb5_0 None\n",
      "\n",
      "\n",
      "\n",
      "Downloading and Extracting Packages\n",
      "ruamel.yaml.clib-0.2 | 126 KB    | ##################################### | 100% \n",
      "conda-23.1.0         | 938 KB    | ##################################### | 100% \n",
      "ruamel.yaml-0.17.21  | 179 KB    | ##################################### | 100% \n",
      "faiss-cpu-1.7.3      | 2.3 MB    | ##################################### | 100% \n",
      "libfaiss-1.7.3       | 2.6 MB    | ##################################### | 100% \n",
      "Preparing transaction: done\n",
      "Verifying transaction: done\n",
      "Executing transaction: done\n",
      "Retrieving notices: ...working... done\n",
      "\n",
      "Note: you may need to restart the kernel to use updated packages.\n"
     ]
    }
   ],
   "source": [
    "conda install -c pytorch faiss-cpu"
   ]
  },
  {
   "cell_type": "code",
   "execution_count": 12,
   "id": "3ccfcc32",
   "metadata": {},
   "outputs": [],
   "source": [
    "import requests\n",
    "from io import StringIO\n",
    "import pandas as pd\n",
    "import faiss\n",
    "from sklearn.metrics.pairwise import cosine_similarity"
   ]
  },
  {
   "cell_type": "code",
   "execution_count": 14,
   "id": "a4e662cc",
   "metadata": {},
   "outputs": [
    {
     "name": "stdout",
     "output_type": "stream",
     "text": [
      "Collecting package metadata (current_repodata.json): done\n",
      "Solving environment: done\n",
      "\n",
      "## Package Plan ##\n",
      "\n",
      "  environment location: /Users/akallaku/opt/anaconda3\n",
      "\n",
      "  added / updated specs:\n",
      "    - sentence-transformers\n",
      "\n",
      "\n",
      "The following packages will be downloaded:\n",
      "\n",
      "    package                    |            build\n",
      "    ---------------------------|-----------------\n",
      "    huggingface_hub-0.12.0     |     pyhd8ed1ab_0         134 KB  conda-forge\n",
      "    ninja-1.11.0               |       h1b54a9f_0         128 KB  conda-forge\n",
      "    python_abi-3.9             |           2_cp39           4 KB  conda-forge\n",
      "    pytorch-1.12.1             |cpu_py39ha26b6ec_0        53.7 MB\n",
      "    sentence-transformers-2.2.2|     pyhd8ed1ab_0          79 KB  conda-forge\n",
      "    sentencepiece-0.1.95       |   py39haf03e11_0         2.2 MB\n",
      "    tokenizers-0.13.2          |   py39h84cb38f_0         2.7 MB  conda-forge\n",
      "    torchvision-0.13.0         |cpu_py39h982e834_0         6.1 MB  conda-forge\n",
      "    transformers-4.24.0        |   py39hecd8cb5_0         4.7 MB\n",
      "    ------------------------------------------------------------\n",
      "                                           Total:        69.7 MB\n",
      "\n",
      "The following NEW packages will be INSTALLED:\n",
      "\n",
      "  huggingface_hub    conda-forge/noarch::huggingface_hub-0.12.0-pyhd8ed1ab_0 \n",
      "  ninja              conda-forge/osx-64::ninja-1.11.0-h1b54a9f_0 \n",
      "  python_abi         conda-forge/osx-64::python_abi-3.9-2_cp39 \n",
      "  pytorch            pkgs/main/osx-64::pytorch-1.12.1-cpu_py39ha26b6ec_0 \n",
      "  sentence-transfor~ conda-forge/noarch::sentence-transformers-2.2.2-pyhd8ed1ab_0 \n",
      "  sentencepiece      pkgs/main/osx-64::sentencepiece-0.1.95-py39haf03e11_0 \n",
      "  tokenizers         conda-forge/osx-64::tokenizers-0.13.2-py39h84cb38f_0 \n",
      "  torchvision        conda-forge/osx-64::torchvision-0.13.0-cpu_py39h982e834_0 \n",
      "  transformers       pkgs/main/osx-64::transformers-4.24.0-py39hecd8cb5_0 \n",
      "\n",
      "\n",
      "\n",
      "Downloading and Extracting Packages\n",
      "sentencepiece-0.1.95 | 2.2 MB    |                                       |   0% \n",
      "pytorch-1.12.1       | 53.7 MB   |                                       |   0% \u001b[A\n",
      "\n",
      "tokenizers-0.13.2    | 2.7 MB    |                                       |   0% \u001b[A\u001b[A\n",
      "\n",
      "\n",
      "sentence-transformer | 79 KB     |                                       |   0% \u001b[A\u001b[A\u001b[A\n",
      "\n",
      "\n",
      "\n",
      "transformers-4.24.0  | 4.7 MB    |                                       |   0% \u001b[A\u001b[A\u001b[A\u001b[A\n",
      "\n",
      "\n",
      "\n",
      "\n",
      "python_abi-3.9       | 4 KB      |                                       |   0% \u001b[A\u001b[A\u001b[A\u001b[A\u001b[A\n",
      "\n",
      "\n",
      "\n",
      "\n",
      "\n",
      "ninja-1.11.0         | 128 KB    |                                       |   0% \u001b[A\u001b[A\u001b[A\u001b[A\u001b[A\u001b[A\n",
      "\n",
      "\n",
      "\n",
      "\n",
      "\n",
      "\n",
      "torchvision-0.13.0   | 6.1 MB    |                                       |   0% \u001b[A\u001b[A\u001b[A\u001b[A\u001b[A\u001b[A\u001b[A\n",
      "\n",
      "\n",
      "\n",
      "\n",
      "\n",
      "\n",
      "\n",
      "huggingface_hub-0.12 | 134 KB    |                                       |   0% \u001b[A\u001b[A\u001b[A\u001b[A\u001b[A\u001b[A\u001b[A\u001b[A\n",
      "\n",
      "\n",
      "\n",
      "sentencepiece-0.1.95 | 2.2 MB    | 2                                     |   1% \u001b[A\u001b[A\u001b[A\u001b[A\n",
      "pytorch-1.12.1       | 53.7 MB   |                                       |   0% \u001b[A\n",
      "\n",
      "tokenizers-0.13.2    | 2.7 MB    | 2                                     |   1% \u001b[A\u001b[A\n",
      "\n",
      "\n",
      "sentencepiece-0.1.95 | 2.2 MB    | ##1                                   |   6% \u001b[A\u001b[A\u001b[A\n",
      "\n",
      "\n",
      "\n",
      "transformers-4.24.0  | 4.7 MB    | 9                                     |   3% \u001b[A\u001b[A\u001b[A\u001b[A\n",
      "pytorch-1.12.1       | 53.7 MB   |                                       |   0% \u001b[A\n",
      "\n",
      "tokenizers-0.13.2    | 2.7 MB    | #2                                    |   3% \u001b[A\u001b[A\n",
      "\n",
      "\n",
      "sentence-transformer | 79 KB     | ##################################### | 100% \u001b[A\u001b[A\u001b[A\n",
      "\n",
      "\n",
      "sentence-transformer | 79 KB     | ##################################### | 100% \u001b[A\u001b[A\u001b[A\n",
      "\n",
      "\n",
      "\n",
      "\n",
      "python_abi-3.9       | 4 KB      | ##################################### | 100% \u001b[A\u001b[A\u001b[A\u001b[A\u001b[A\n",
      "\n",
      "\n",
      "\n",
      "\n",
      "python_abi-3.9       | 4 KB      | ##################################### | 100% \u001b[A\u001b[A\u001b[A\u001b[A\u001b[A\n",
      "\n",
      "tokenizers-0.13.2    | 2.7 MB    | ###############                       |  41% \u001b[A\u001b[A\n",
      "\n",
      "\n",
      "\n",
      "sentencepiece-0.1.95 | 2.2 MB    | #############7                        |  37% \u001b[A\u001b[A\u001b[A\u001b[A\n",
      "pytorch-1.12.1       | 53.7 MB   | 7                                     |   2% \u001b[A\n",
      "\n",
      "tokenizers-0.13.2    | 2.7 MB    | ########################              |  65% \u001b[A\u001b[A\n",
      "\n",
      "\n",
      "\n",
      "transformers-4.24.0  | 4.7 MB    | ##########                            |  27% \u001b[A\u001b[A\u001b[A\u001b[A\n",
      "sentencepiece-0.1.95 | 2.2 MB    | #########################9            |  70% \u001b[A\n",
      "\n",
      "\n",
      "\n",
      "\n",
      "\n",
      "ninja-1.11.0         | 128 KB    | ####6                                 |  13% \u001b[A\u001b[A\u001b[A\u001b[A\u001b[A\u001b[A\n",
      "\n",
      "\n",
      "\n",
      "\n",
      "\n",
      "ninja-1.11.0         | 128 KB    | ##################################### | 100% \u001b[A\u001b[A\u001b[A\u001b[A\u001b[A\u001b[A\n",
      "pytorch-1.12.1       | 53.7 MB   | #6                                    |   4% \u001b[A\n",
      "\n",
      "tokenizers-0.13.2    | 2.7 MB    | ###################################2  |  95% \u001b[A\u001b[A\n",
      "\n",
      "\n",
      "\n",
      "transformers-4.24.0  | 4.7 MB    | #############                         |  35% \u001b[A\u001b[A\u001b[A\u001b[A\n",
      "\n",
      "\n",
      "\n",
      "\n",
      "\n",
      "\n",
      "torchvision-0.13.0   | 6.1 MB    |                                       |   0% \u001b[A\u001b[A\u001b[A\u001b[A\u001b[A\u001b[A\u001b[A\n",
      "pytorch-1.12.1       | 53.7 MB   | ###9                                  |  11% \u001b[A\n",
      "\n",
      "\n",
      "\n",
      "transformers-4.24.0  | 4.7 MB    | ##########################7           |  72% \u001b[A\u001b[A\u001b[A\u001b[A\n",
      "\n",
      "\n",
      "\n",
      "\n",
      "\n",
      "\n",
      "sentencepiece-0.1.95 | 2.2 MB    | ##################################### | 100% \u001b[A\u001b[A\u001b[A\u001b[A\u001b[A\u001b[A\u001b[A\n",
      "pytorch-1.12.1       | 53.7 MB   | #####7                                |  16% \u001b[A\n",
      "\n",
      "\n",
      "\n",
      "transformers-4.24.0  | 4.7 MB    | ################################8     |  89% \u001b[A\u001b[A\u001b[A\u001b[A\n",
      "\n",
      "\n",
      "\n",
      "\n",
      "\n",
      "\n",
      "torchvision-0.13.0   | 6.1 MB    | ######9                               |  19% \u001b[A\u001b[A\u001b[A\u001b[A\u001b[A\u001b[A\u001b[A\n",
      "\n",
      "\n",
      "\n",
      "\n",
      "\n",
      "\n",
      "\n",
      "huggingface_hub-0.12 | 134 KB    | ####4                                 |  12% \u001b[A\u001b[A\u001b[A\u001b[A\u001b[A\u001b[A\u001b[A\u001b[A\n",
      "pytorch-1.12.1       | 53.7 MB   | ######9                               |  19% \u001b[A\n",
      "\n",
      "tokenizers-0.13.2    | 2.7 MB    | ##################################### | 100% \u001b[A\u001b[A\n",
      "\n",
      "\n",
      "\n",
      "\n",
      "\n",
      "\n",
      "torchvision-0.13.0   | 6.1 MB    | #########5                            |  26% \u001b[A\u001b[A\u001b[A\u001b[A\u001b[A\u001b[A\u001b[A\n",
      "pytorch-1.12.1       | 53.7 MB   | ##########1                           |  28% \u001b[A\n",
      "\n",
      "\n",
      "\n",
      "\n",
      "\n",
      "\n",
      "torchvision-0.13.0   | 6.1 MB    | ############                          |  33% \u001b[A\u001b[A\u001b[A\u001b[A\u001b[A\u001b[A\u001b[A\n",
      "pytorch-1.12.1       | 53.7 MB   | ###########9                          |  32% \u001b[A\n",
      "\n",
      "\n",
      "\n",
      "\n",
      "\n",
      "\n",
      "torchvision-0.13.0   | 6.1 MB    | ##############5                       |  39% \u001b[A\u001b[A\u001b[A\u001b[A\u001b[A\u001b[A\u001b[A\n",
      "\n",
      "\n",
      "\n",
      "transformers-4.24.0  | 4.7 MB    | ##################################### | 100% \u001b[A\u001b[A\u001b[A\u001b[A\n",
      "pytorch-1.12.1       | 53.7 MB   | ################                      |  43% \u001b[A\n",
      "\n",
      "\n",
      "\n",
      "\n",
      "\n",
      "\n",
      "torchvision-0.13.0   | 6.1 MB    | ###########################           |  73% \u001b[A\u001b[A\u001b[A\u001b[A\u001b[A\u001b[A\u001b[A\n",
      "\n",
      "\n",
      "\n",
      "\n",
      "\n",
      "\n",
      "\n",
      "huggingface_hub-0.12 | 134 KB    | ##################################### | 100% \u001b[A\u001b[A\u001b[A\u001b[A\u001b[A\u001b[A\u001b[A\u001b[A\n",
      "\n",
      "\n",
      "\n",
      "\n",
      "\n",
      "\n",
      "\n",
      "huggingface_hub-0.12 | 134 KB    | ##################################### | 100% \u001b[A\u001b[A\u001b[A\u001b[A\u001b[A\u001b[A\u001b[A\u001b[A\n",
      "pytorch-1.12.1       | 53.7 MB   | ##################8                   |  51% \u001b[A\n",
      "\n",
      "\n",
      "\n",
      "\n",
      "\n",
      "\n",
      "torchvision-0.13.0   | 6.1 MB    | ###############################9      |  86% \u001b[A\u001b[A\u001b[A\u001b[A\u001b[A\u001b[A\u001b[A\n",
      "pytorch-1.12.1       | 53.7 MB   | #####################1                |  57% \u001b[A\n",
      "\n",
      "\n",
      "\n",
      "\n",
      "\n",
      "\n",
      "torchvision-0.13.0   | 6.1 MB    | ####################################4 |  98% \u001b[A\u001b[A\u001b[A\u001b[A\u001b[A\u001b[A\u001b[A\n",
      "pytorch-1.12.1       | 53.7 MB   | #######################7              |  64% \u001b[A\n",
      "\n",
      "\n",
      "\n",
      "\n",
      "\n",
      "\n",
      "torchvision-0.13.0   | 6.1 MB    | ##################################### | 100% \u001b[A\u001b[A\u001b[A\u001b[A\u001b[A\u001b[A\u001b[A\n",
      "pytorch-1.12.1       | 53.7 MB   | ###########################8          |  75% \u001b[A\n",
      "pytorch-1.12.1       | 53.7 MB   | ##############################8       |  83% \u001b[A\n",
      "pytorch-1.12.1       | 53.7 MB   | #################################3    |  90% \u001b[A\n",
      "pytorch-1.12.1       | 53.7 MB   | ####################################  |  97% \u001b[A\n",
      "                                                                                \u001b[A\n",
      "                                                                                \u001b[A\n",
      "\n",
      "                                                                                \u001b[A\u001b[A\n",
      "\n",
      "\n",
      "                                                                                \u001b[A\u001b[A\u001b[A\n",
      "\n",
      "\n",
      "\n",
      "                                                                                \u001b[A\u001b[A\u001b[A\u001b[A\n",
      "\n",
      "\n",
      "\n",
      "\n",
      "                                                                                \u001b[A\u001b[A\u001b[A\u001b[A\u001b[A\n",
      "\n",
      "\n",
      "\n",
      "\n",
      "\n",
      "                                                                                \u001b[A\u001b[A\u001b[A\u001b[A\u001b[A\u001b[A\n",
      "\n",
      "\n",
      "\n",
      "\n",
      "\n",
      "\n",
      "                                                                                \u001b[A\u001b[A\u001b[A\u001b[A\u001b[A\u001b[A\u001b[A\n",
      "\n",
      "\n",
      "\n",
      "\n",
      "\n",
      "\n",
      "\n",
      "                                                                                \u001b[A\u001b[A\u001b[A\u001b[A\u001b[A\u001b[A\u001b[A\u001b[A\n",
      "Preparing transaction: done\n",
      "Verifying transaction: done\n",
      "Executing transaction: done\n",
      "\n",
      "Note: you may need to restart the kernel to use updated packages.\n"
     ]
    }
   ],
   "source": [
    "conda install -c conda-forge sentence-transformers"
   ]
  },
  {
   "cell_type": "code",
   "execution_count": 15,
   "id": "6ae35027",
   "metadata": {},
   "outputs": [
    {
     "data": {
      "application/vnd.jupyter.widget-view+json": {
       "model_id": "d5af2fde9c304afb8c36026b36b60b97",
       "version_major": 2,
       "version_minor": 0
      },
      "text/plain": [
       "Downloading (…)821d1/.gitattributes:   0%|          | 0.00/391 [00:00<?, ?B/s]"
      ]
     },
     "metadata": {},
     "output_type": "display_data"
    },
    {
     "data": {
      "application/vnd.jupyter.widget-view+json": {
       "model_id": "0853b9920f2148da8e95e47ba6ab1e3f",
       "version_major": 2,
       "version_minor": 0
      },
      "text/plain": [
       "Downloading (…)_Pooling/config.json:   0%|          | 0.00/190 [00:00<?, ?B/s]"
      ]
     },
     "metadata": {},
     "output_type": "display_data"
    },
    {
     "data": {
      "application/vnd.jupyter.widget-view+json": {
       "model_id": "2aac1f3bc7a348648b3165fec4a64df5",
       "version_major": 2,
       "version_minor": 0
      },
      "text/plain": [
       "Downloading (…)8d01e821d1/README.md:   0%|          | 0.00/3.95k [00:00<?, ?B/s]"
      ]
     },
     "metadata": {},
     "output_type": "display_data"
    },
    {
     "data": {
      "application/vnd.jupyter.widget-view+json": {
       "model_id": "76a99777ed8e4b9b9407db45c730bf3c",
       "version_major": 2,
       "version_minor": 0
      },
      "text/plain": [
       "Downloading (…)d1/added_tokens.json:   0%|          | 0.00/2.00 [00:00<?, ?B/s]"
      ]
     },
     "metadata": {},
     "output_type": "display_data"
    },
    {
     "data": {
      "application/vnd.jupyter.widget-view+json": {
       "model_id": "4e8eeb0566374eddaac9cd8c7ee66a3b",
       "version_major": 2,
       "version_minor": 0
      },
      "text/plain": [
       "Downloading (…)01e821d1/config.json:   0%|          | 0.00/625 [00:00<?, ?B/s]"
      ]
     },
     "metadata": {},
     "output_type": "display_data"
    },
    {
     "data": {
      "application/vnd.jupyter.widget-view+json": {
       "model_id": "6f6d680d6d5a4fe6856869ea9d7c8422",
       "version_major": 2,
       "version_minor": 0
      },
      "text/plain": [
       "Downloading (…)ce_transformers.json:   0%|          | 0.00/122 [00:00<?, ?B/s]"
      ]
     },
     "metadata": {},
     "output_type": "display_data"
    },
    {
     "data": {
      "application/vnd.jupyter.widget-view+json": {
       "model_id": "e1a8fa2e96f540db9e295a50713d30e5",
       "version_major": 2,
       "version_minor": 0
      },
      "text/plain": [
       "Downloading (…)\"pytorch_model.bin\";:   0%|          | 0.00/438M [00:00<?, ?B/s]"
      ]
     },
     "metadata": {},
     "output_type": "display_data"
    },
    {
     "data": {
      "application/vnd.jupyter.widget-view+json": {
       "model_id": "7ec0adb5c7c94ae1a04c1e3e59f70017",
       "version_major": 2,
       "version_minor": 0
      },
      "text/plain": [
       "Downloading (…)nce_bert_config.json:   0%|          | 0.00/53.0 [00:00<?, ?B/s]"
      ]
     },
     "metadata": {},
     "output_type": "display_data"
    },
    {
     "data": {
      "application/vnd.jupyter.widget-view+json": {
       "model_id": "aebf9855914141f4aa5fa8c48b4d793d",
       "version_major": 2,
       "version_minor": 0
      },
      "text/plain": [
       "Downloading (…)cial_tokens_map.json:   0%|          | 0.00/112 [00:00<?, ?B/s]"
      ]
     },
     "metadata": {},
     "output_type": "display_data"
    },
    {
     "data": {
      "application/vnd.jupyter.widget-view+json": {
       "model_id": "d1c58c0b82154e17b7f433b55bddbefe",
       "version_major": 2,
       "version_minor": 0
      },
      "text/plain": [
       "Downloading (…)821d1/tokenizer.json:   0%|          | 0.00/466k [00:00<?, ?B/s]"
      ]
     },
     "metadata": {},
     "output_type": "display_data"
    },
    {
     "data": {
      "application/vnd.jupyter.widget-view+json": {
       "model_id": "d19f6218f84d4f55b05d6c02e1dba453",
       "version_major": 2,
       "version_minor": 0
      },
      "text/plain": [
       "Downloading (…)okenizer_config.json:   0%|          | 0.00/399 [00:00<?, ?B/s]"
      ]
     },
     "metadata": {},
     "output_type": "display_data"
    },
    {
     "data": {
      "application/vnd.jupyter.widget-view+json": {
       "model_id": "ed0da5b6c3bc4270ae55df517f41183e",
       "version_major": 2,
       "version_minor": 0
      },
      "text/plain": [
       "Downloading (…)8d01e821d1/vocab.txt:   0%|          | 0.00/232k [00:00<?, ?B/s]"
      ]
     },
     "metadata": {},
     "output_type": "display_data"
    },
    {
     "data": {
      "application/vnd.jupyter.widget-view+json": {
       "model_id": "e36d1672d7034b739510538aaae4f4b1",
       "version_major": 2,
       "version_minor": 0
      },
      "text/plain": [
       "Downloading (…)1e821d1/modules.json:   0%|          | 0.00/229 [00:00<?, ?B/s]"
      ]
     },
     "metadata": {},
     "output_type": "display_data"
    }
   ],
   "source": [
    "from sentence_transformers import SentenceTransformer\n",
    "\n",
    "model = SentenceTransformer('bert-base-nli-mean-tokens')"
   ]
  },
  {
   "cell_type": "code",
   "execution_count": 70,
   "id": "046fbbba",
   "metadata": {},
   "outputs": [],
   "source": [
    "glove_50_txt = open(r\"Downloads/glove.6B.50d.txt\", \"r\")\n",
    "\n",
    "glove_50_vector_list = []\n",
    "glove_50_words_list=[]\n",
    "for line in glove_50_txt:\n",
    "    vector = [float(i) for i in line.split()[1:]]\n",
    "    word = line.split()[0]\n",
    "    glove_50_vector_list.append(vector)\n",
    "    glove_50_words_list.append(word)"
   ]
  },
  {
   "cell_type": "code",
   "execution_count": 71,
   "id": "70adb3bc",
   "metadata": {},
   "outputs": [],
   "source": [
    "number_of_words = len(glove_50_vector_list)\n",
    "\n",
    "numpy_array = np.array(glove_50_vector_list,np.float32)\n",
    "index = faiss.IndexFlatL2(50) "
   ]
  },
  {
   "cell_type": "code",
   "execution_count": 72,
   "id": "2ec7a525",
   "metadata": {},
   "outputs": [
    {
     "data": {
      "text/plain": [
       "True"
      ]
     },
     "execution_count": 72,
     "metadata": {},
     "output_type": "execute_result"
    }
   ],
   "source": [
    "import numpy as np\n",
    "index.add(np.array(glove_50_vector_list))\n",
    "index.is_trained"
   ]
  },
  {
   "cell_type": "code",
   "execution_count": 73,
   "id": "64450b59",
   "metadata": {},
   "outputs": [
    {
     "name": "stdout",
     "output_type": "stream",
     "text": [
      "[[  0  42 153   3   6  13  48   2  19 215]\n",
      " [  1   2   5 110  52  17  19 143 215  48]]\n",
      "[[0.        3.7542365 3.8955116 4.7945795 4.8096323 4.988033  5.0139117\n",
      "  5.0540514 5.127717  5.5868683]\n",
      " [0.        2.6069698 3.3488345 3.7508366 4.398552  4.627061  4.995878\n",
      "  5.572597  5.8222294 5.8310347]]\n",
      "CPU times: user 26.1 ms, sys: 3.39 ms, total: 29.4 ms\n",
      "Wall time: 13.5 ms\n"
     ]
    }
   ],
   "source": [
    "%%time\n",
    "k = 10\n",
    "D, similar_vectors = index.search(np.array(glove_50_vector_list[:2]), k)  # search\n",
    "print(similar_vectors)\n",
    "print(D)"
   ]
  },
  {
   "cell_type": "code",
   "execution_count": 77,
   "id": "c1f46f8f",
   "metadata": {},
   "outputs": [
    {
     "name": "stdout",
     "output_type": "stream",
     "text": [
      "[['the', 'which', 'part', 'of', 'in', 'on', 'one', '.', 'as', 'same'], [',', '.', 'and', 'while', 'also', 'with', 'as', 'well', 'same', 'one']]\n"
     ]
    }
   ],
   "source": [
    "similar_words=[]\n",
    "for number_of_vectors in similar_vectors:\n",
    "    temp=[]\n",
    "    for index in number_of_vectors:\n",
    "        temp.append(glove_50_words_list[index])\n",
    "    similar_words.append(temp)\n",
    "print(similar_words)"
   ]
  },
  {
   "cell_type": "code",
   "execution_count": null,
   "id": "8329fa0b",
   "metadata": {},
   "outputs": [],
   "source": []
  }
 ],
 "metadata": {
  "kernelspec": {
   "display_name": "Python 3 (ipykernel)",
   "language": "python",
   "name": "python3"
  },
  "language_info": {
   "codemirror_mode": {
    "name": "ipython",
    "version": 3
   },
   "file_extension": ".py",
   "mimetype": "text/x-python",
   "name": "python",
   "nbconvert_exporter": "python",
   "pygments_lexer": "ipython3",
   "version": "3.9.13"
  }
 },
 "nbformat": 4,
 "nbformat_minor": 5
}
