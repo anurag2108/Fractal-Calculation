{
  "cells": [
    {
      "cell_type": "markdown",
      "source": [
        "This code needs to be cleaned. But it run correctly where we have Oct 19 date."
      ],
      "metadata": {
        "id": "NNonls98nHZv"
      }
    },
    {
      "cell_type": "code",
      "source": [
        "!pip install ipython-autotime\n",
        "%load_ext autotime\n"
      ],
      "metadata": {
        "colab": {
          "base_uri": "https://localhost:8080/"
        },
        "id": "TEjRybdTxz0U",
        "outputId": "62cc428a-a9ae-4303-830d-cf4b8be661cc"
      },
      "execution_count": null,
      "outputs": [
        {
          "output_type": "stream",
          "name": "stdout",
          "text": [
            "Collecting ipython-autotime\n",
            "  Downloading ipython_autotime-0.3.2-py2.py3-none-any.whl.metadata (1.4 kB)\n",
            "Requirement already satisfied: ipython in /usr/local/lib/python3.10/dist-packages (from ipython-autotime) (7.34.0)\n",
            "Requirement already satisfied: setuptools>=18.5 in /usr/local/lib/python3.10/dist-packages (from ipython->ipython-autotime) (75.1.0)\n",
            "Collecting jedi>=0.16 (from ipython->ipython-autotime)\n",
            "  Downloading jedi-0.19.2-py2.py3-none-any.whl.metadata (22 kB)\n",
            "Requirement already satisfied: decorator in /usr/local/lib/python3.10/dist-packages (from ipython->ipython-autotime) (4.4.2)\n",
            "Requirement already satisfied: pickleshare in /usr/local/lib/python3.10/dist-packages (from ipython->ipython-autotime) (0.7.5)\n",
            "Requirement already satisfied: traitlets>=4.2 in /usr/local/lib/python3.10/dist-packages (from ipython->ipython-autotime) (5.7.1)\n",
            "Requirement already satisfied: prompt-toolkit!=3.0.0,!=3.0.1,<3.1.0,>=2.0.0 in /usr/local/lib/python3.10/dist-packages (from ipython->ipython-autotime) (3.0.48)\n",
            "Requirement already satisfied: pygments in /usr/local/lib/python3.10/dist-packages (from ipython->ipython-autotime) (2.18.0)\n",
            "Requirement already satisfied: backcall in /usr/local/lib/python3.10/dist-packages (from ipython->ipython-autotime) (0.2.0)\n",
            "Requirement already satisfied: matplotlib-inline in /usr/local/lib/python3.10/dist-packages (from ipython->ipython-autotime) (0.1.7)\n",
            "Requirement already satisfied: pexpect>4.3 in /usr/local/lib/python3.10/dist-packages (from ipython->ipython-autotime) (4.9.0)\n",
            "Requirement already satisfied: parso<0.9.0,>=0.8.4 in /usr/local/lib/python3.10/dist-packages (from jedi>=0.16->ipython->ipython-autotime) (0.8.4)\n",
            "Requirement already satisfied: ptyprocess>=0.5 in /usr/local/lib/python3.10/dist-packages (from pexpect>4.3->ipython->ipython-autotime) (0.7.0)\n",
            "Requirement already satisfied: wcwidth in /usr/local/lib/python3.10/dist-packages (from prompt-toolkit!=3.0.0,!=3.0.1,<3.1.0,>=2.0.0->ipython->ipython-autotime) (0.2.13)\n",
            "Downloading ipython_autotime-0.3.2-py2.py3-none-any.whl (7.0 kB)\n",
            "Downloading jedi-0.19.2-py2.py3-none-any.whl (1.6 MB)\n",
            "\u001b[2K   \u001b[90m━━━━━━━━━━━━━━━━━━━━━━━━━━━━━━━━━━━━━━━━\u001b[0m \u001b[32m1.6/1.6 MB\u001b[0m \u001b[31m23.2 MB/s\u001b[0m eta \u001b[36m0:00:00\u001b[0m\n",
            "\u001b[?25hInstalling collected packages: jedi, ipython-autotime\n",
            "Successfully installed ipython-autotime-0.3.2 jedi-0.19.2\n",
            "time: 272 µs (started: 2024-12-06 07:17:04 +00:00)\n"
          ]
        }
      ]
    },
    {
      "cell_type": "code",
      "execution_count": null,
      "metadata": {
        "id": "X28zqoct9wvx",
        "colab": {
          "base_uri": "https://localhost:8080/"
        },
        "outputId": "963c5993-6990-40df-8987-72ea304bef11"
      },
      "outputs": [
        {
          "output_type": "stream",
          "name": "stdout",
          "text": [
            "time: 2.14 s (started: 2024-12-06 07:17:04 +00:00)\n"
          ]
        }
      ],
      "source": [
        "import gzip\n",
        "import gensim\n",
        "import logging\n",
        "\n",
        "logging.basicConfig(format='%(asctime)s : %(levelname)s : %(message)s', level=logging.INFO)"
      ]
    },
    {
      "cell_type": "code",
      "execution_count": null,
      "metadata": {
        "id": "v6cM9qG99wv-",
        "colab": {
          "base_uri": "https://localhost:8080/"
        },
        "outputId": "ef7c6ff2-2cff-47da-8c5b-a78efe95b79e"
      },
      "outputs": [
        {
          "output_type": "stream",
          "name": "stdout",
          "text": [
            "Collecting fasttext\n",
            "  Downloading fasttext-0.9.3.tar.gz (73 kB)\n",
            "\u001b[?25l     \u001b[90m━━━━━━━━━━━━━━━━━━━━━━━━━━━━━━━━━━━━━━━━\u001b[0m \u001b[32m0.0/73.4 kB\u001b[0m \u001b[31m?\u001b[0m eta \u001b[36m-:--:--\u001b[0m\r\u001b[2K     \u001b[90m━━━━━━━━━━━━━━━━━━━━━━━━━━━━━━━━━━━━━━━━\u001b[0m \u001b[32m73.4/73.4 kB\u001b[0m \u001b[31m2.2 MB/s\u001b[0m eta \u001b[36m0:00:00\u001b[0m\n",
            "\u001b[?25h  Installing build dependencies ... \u001b[?25l\u001b[?25hdone\n",
            "  Getting requirements to build wheel ... \u001b[?25l\u001b[?25hdone\n",
            "  Preparing metadata (pyproject.toml) ... \u001b[?25l\u001b[?25hdone\n",
            "Collecting pybind11>=2.2 (from fasttext)\n",
            "  Using cached pybind11-2.13.6-py3-none-any.whl.metadata (9.5 kB)\n",
            "Requirement already satisfied: setuptools>=0.7.0 in /usr/local/lib/python3.10/dist-packages (from fasttext) (75.1.0)\n",
            "Requirement already satisfied: numpy in /usr/local/lib/python3.10/dist-packages (from fasttext) (1.26.4)\n",
            "Using cached pybind11-2.13.6-py3-none-any.whl (243 kB)\n",
            "Building wheels for collected packages: fasttext\n",
            "  Building wheel for fasttext (pyproject.toml) ... \u001b[?25l\u001b[?25hdone\n",
            "  Created wheel for fasttext: filename=fasttext-0.9.3-cp310-cp310-linux_x86_64.whl size=4296183 sha256=baa0c6d9d208cfb54d2ec0b2e08fcd672904d59e58de90228ca299a089757262\n",
            "  Stored in directory: /root/.cache/pip/wheels/0d/a2/00/81db54d3e6a8199b829d58e02cec2ddb20ce3e59fad8d3c92a\n",
            "Successfully built fasttext\n",
            "Installing collected packages: pybind11, fasttext\n",
            "Successfully installed fasttext-0.9.3 pybind11-2.13.6\n",
            "Requirement already satisfied: gdown in /usr/local/lib/python3.10/dist-packages (5.2.0)\n",
            "Requirement already satisfied: beautifulsoup4 in /usr/local/lib/python3.10/dist-packages (from gdown) (4.12.3)\n",
            "Requirement already satisfied: filelock in /usr/local/lib/python3.10/dist-packages (from gdown) (3.16.1)\n",
            "Requirement already satisfied: requests[socks] in /usr/local/lib/python3.10/dist-packages (from gdown) (2.32.3)\n",
            "Requirement already satisfied: tqdm in /usr/local/lib/python3.10/dist-packages (from gdown) (4.66.6)\n",
            "Requirement already satisfied: soupsieve>1.2 in /usr/local/lib/python3.10/dist-packages (from beautifulsoup4->gdown) (2.6)\n",
            "Requirement already satisfied: charset-normalizer<4,>=2 in /usr/local/lib/python3.10/dist-packages (from requests[socks]->gdown) (3.4.0)\n",
            "Requirement already satisfied: idna<4,>=2.5 in /usr/local/lib/python3.10/dist-packages (from requests[socks]->gdown) (3.10)\n",
            "Requirement already satisfied: urllib3<3,>=1.21.1 in /usr/local/lib/python3.10/dist-packages (from requests[socks]->gdown) (2.2.3)\n",
            "Requirement already satisfied: certifi>=2017.4.17 in /usr/local/lib/python3.10/dist-packages (from requests[socks]->gdown) (2024.8.30)\n",
            "Requirement already satisfied: PySocks!=1.5.7,>=1.5.6 in /usr/local/lib/python3.10/dist-packages (from requests[socks]->gdown) (1.7.1)\n",
            "time: 54.6 s (started: 2024-12-06 07:17:06 +00:00)\n"
          ]
        }
      ],
      "source": [
        "!pip install fasttext\n",
        "!pip install gdown"
      ]
    },
    {
      "cell_type": "code",
      "source": [
        "import numpy as np"
      ],
      "metadata": {
        "id": "nv3K0EURLrzN",
        "colab": {
          "base_uri": "https://localhost:8080/"
        },
        "outputId": "e429d939-f51d-4500-f6a2-1097efd53e85"
      },
      "execution_count": null,
      "outputs": [
        {
          "output_type": "stream",
          "name": "stdout",
          "text": [
            "time: 303 µs (started: 2024-12-06 07:18:01 +00:00)\n"
          ]
        }
      ]
    },
    {
      "cell_type": "code",
      "source": [
        "import fasttext\n",
        "import fasttext.util"
      ],
      "metadata": {
        "colab": {
          "base_uri": "https://localhost:8080/"
        },
        "id": "pE3XfUh9QG8W",
        "outputId": "45c61936-b29a-466f-b3f3-8a07dfa3b083"
      },
      "execution_count": null,
      "outputs": [
        {
          "output_type": "stream",
          "name": "stdout",
          "text": [
            "time: 6.13 ms (started: 2024-12-06 07:18:01 +00:00)\n"
          ]
        }
      ]
    },
    {
      "cell_type": "markdown",
      "source": [
        "The code below will probably work faster with a local version"
      ],
      "metadata": {
        "id": "clTed2AvRoD1"
      }
    },
    {
      "cell_type": "code",
      "source": [
        "# Download the English FastText model\n",
        "fasttext.util.download_model('hi', if_exists='ignore')\n",
        "\n",
        "# Load the pre-trained model\n",
        "model = fasttext.load_model('cc.hi.300.bin')"
      ],
      "metadata": {
        "colab": {
          "base_uri": "https://localhost:8080/"
        },
        "id": "4mpG_LOGQLzK",
        "outputId": "b5b246c6-8cf2-4136-a8bd-2796371ac91a"
      },
      "execution_count": null,
      "outputs": [
        {
          "output_type": "stream",
          "name": "stdout",
          "text": [
            "Downloading https://dl.fbaipublicfiles.com/fasttext/vectors-crawl/cc.hi.300.bin.gz\n",
            "\n",
            "time: 16min 44s (started: 2024-12-06 07:18:01 +00:00)\n"
          ]
        }
      ]
    },
    {
      "cell_type": "code",
      "source": [
        "# Create a dictionary of word embeddings\n",
        "word_embeddings = {}\n",
        "\n",
        "# Get all words in the vocabulary\n",
        "words = model.get_words()\n",
        "\n",
        "for word in words:\n",
        "    word_embeddings[word] = model.get_word_vector(word)\n",
        "\n",
        "print(f\"Total number of words: {len(word_embeddings)}\")\n",
        "print(f\"Dimension of each word vector: {len(next(iter(word_embeddings.values())))}\")\n",
        "\n",
        "# Example: Print the first 5 words and their vector dimensions\n",
        "for word in list(word_embeddings.keys())[:5]:\n",
        "    print(f\"{word}: {word_embeddings[word].shape}\")"
      ],
      "metadata": {
        "id": "KwbzVJ6Lgqna",
        "colab": {
          "base_uri": "https://localhost:8080/"
        },
        "outputId": "0021fdf3-30f0-497f-86de-bd441a09685b"
      },
      "execution_count": null,
      "outputs": [
        {
          "output_type": "stream",
          "name": "stdout",
          "text": [
            "Total number of words: 1876665\n",
            "Dimension of each word vector: 300\n",
            "के: (300,)\n",
            "।: (300,)\n",
            "है: (300,)\n",
            ",: (300,)\n",
            "में: (300,)\n",
            "time: 24.4 s (started: 2024-12-06 07:34:45 +00:00)\n"
          ]
        }
      ]
    },
    {
      "cell_type": "code",
      "source": [
        "# Example: Print the first 5 words and their vector dimensions\n",
        "for word in list(word_embeddings.keys())[25:50]:\n",
        "    print(f\"{word}: {word_embeddings[word].shape}\")"
      ],
      "metadata": {
        "colab": {
          "base_uri": "https://localhost:8080/"
        },
        "id": "CS_5cANiQDAb",
        "outputId": "464d5135-f82b-4629-8a89-03232a16e2d3"
      },
      "execution_count": null,
      "outputs": [
        {
          "output_type": "stream",
          "name": "stdout",
          "text": [
            "कि: (300,)\n",
            "किया: (300,)\n",
            "था: (300,)\n",
            "नहीं: (300,)\n",
            "ही: (300,)\n",
            "यह: (300,)\n",
            "इस: (300,)\n",
            "कर: (300,)\n",
            "हो: (300,)\n",
            "गया: (300,)\n",
            "तो: (300,)\n",
            "}: (300,)\n",
            "’: (300,)\n",
            "‘: (300,)\n",
            "किस: (300,)\n",
            "/: (300,)\n",
            "करने: (300,)\n",
            "भारत: (300,)\n",
            "जाता: (300,)\n",
            "जो: (300,)\n",
            "साथ: (300,)\n",
            "अपने: (300,)\n",
            "या: (300,)\n",
            "थी: (300,)\n",
            "द्वारा: (300,)\n",
            "time: 46.5 ms (started: 2024-12-06 07:35:10 +00:00)\n"
          ]
        }
      ]
    },
    {
      "cell_type": "code",
      "source": [
        "%ls"
      ],
      "metadata": {
        "id": "HlTD-VoxKLg0",
        "colab": {
          "base_uri": "https://localhost:8080/"
        },
        "outputId": "af5cee47-3b6e-4cc8-b3d8-3a0572aae5c5"
      },
      "execution_count": null,
      "outputs": [
        {
          "output_type": "stream",
          "name": "stdout",
          "text": [
            "cc.hi.300.bin  cc.hi.300.bin.gz  \u001b[0m\u001b[01;34msample_data\u001b[0m/\n",
            "time: 104 ms (started: 2024-12-06 07:35:10 +00:00)\n"
          ]
        }
      ]
    },
    {
      "cell_type": "code",
      "execution_count": null,
      "metadata": {
        "id": "flXXA-L9GSGX",
        "colab": {
          "base_uri": "https://localhost:8080/"
        },
        "outputId": "82a6ee73-be52-463d-c7ce-8b415d67ab46"
      },
      "outputs": [
        {
          "output_type": "stream",
          "name": "stdout",
          "text": [
            "time: 737 ms (started: 2024-12-06 07:35:10 +00:00)\n"
          ]
        }
      ],
      "source": [
        "from sklearn.preprocessing import normalize\n",
        "\n",
        "def normalize_word_embeddings(embeddings):\n",
        "    # Extract the word vectors and store them in a numpy array\n",
        "    embeddings_values = np.array(list(embeddings.values()))\n",
        "\n",
        "    # Normalize the word embeddings\n",
        "    normalized_embeddings = normalize(embeddings_values)\n",
        "\n",
        "    # Update the normalized embeddings back in the dictionary\n",
        "    for i, word in enumerate(embeddings.keys()):\n",
        "        embeddings[word] = normalized_embeddings[i]\n",
        "\n",
        "    return embeddings"
      ]
    },
    {
      "cell_type": "code",
      "execution_count": null,
      "metadata": {
        "id": "O8BHr5yyNzgY",
        "colab": {
          "base_uri": "https://localhost:8080/"
        },
        "outputId": "f5a1b4d3-1817-486a-964e-f22c44a77bb4"
      },
      "outputs": [
        {
          "output_type": "stream",
          "name": "stdout",
          "text": [
            "time: 4.2 s (started: 2024-12-06 07:35:11 +00:00)\n"
          ]
        }
      ],
      "source": [
        "# Call the function to get normalized word embeddings\n",
        "normalized_embeddings = normalize_word_embeddings(word_embeddings)\n",
        "#random_normalized_embeddings = normalize_word_embeddings(random_embeddings)\n",
        "#print(normalized_embeddings)"
      ]
    },
    {
      "cell_type": "code",
      "source": [
        "len(normalized_embeddings)"
      ],
      "metadata": {
        "colab": {
          "base_uri": "https://localhost:8080/"
        },
        "id": "M97ZwNDoXAWN",
        "outputId": "cc8f5008-1281-4227-c19a-cc2095e94c00"
      },
      "execution_count": null,
      "outputs": [
        {
          "output_type": "execute_result",
          "data": {
            "text/plain": [
              "1876665"
            ]
          },
          "metadata": {},
          "execution_count": 19
        },
        {
          "output_type": "stream",
          "name": "stdout",
          "text": [
            "time: 10.9 ms (started: 2024-12-06 07:35:15 +00:00)\n"
          ]
        }
      ]
    },
    {
      "cell_type": "code",
      "source": [
        "len(normalized_embeddings.keys())"
      ],
      "metadata": {
        "id": "B7A-_BSXxT47",
        "colab": {
          "base_uri": "https://localhost:8080/"
        },
        "outputId": "90fbbd67-9443-4b68-ceea-4c6b9ba7d272"
      },
      "execution_count": null,
      "outputs": [
        {
          "output_type": "execute_result",
          "data": {
            "text/plain": [
              "1876665"
            ]
          },
          "metadata": {},
          "execution_count": 20
        },
        {
          "output_type": "stream",
          "name": "stdout",
          "text": [
            "time: 13.7 ms (started: 2024-12-06 07:35:15 +00:00)\n"
          ]
        }
      ]
    },
    {
      "cell_type": "code",
      "execution_count": null,
      "metadata": {
        "id": "QeitKg2FjfUB",
        "colab": {
          "base_uri": "https://localhost:8080/"
        },
        "outputId": "55537768-1f09-4eb8-8e43-31ba9af88e35"
      },
      "outputs": [
        {
          "output_type": "stream",
          "name": "stdout",
          "text": [
            "Collecting faiss-gpu\n",
            "  Downloading faiss_gpu-1.7.2-cp310-cp310-manylinux_2_17_x86_64.manylinux2014_x86_64.whl.metadata (1.4 kB)\n",
            "Downloading faiss_gpu-1.7.2-cp310-cp310-manylinux_2_17_x86_64.manylinux2014_x86_64.whl (85.5 MB)\n",
            "\u001b[2K   \u001b[90m━━━━━━━━━━━━━━━━━━━━━━━━━━━━━━━━━━━━━━━━\u001b[0m \u001b[32m85.5/85.5 MB\u001b[0m \u001b[31m25.4 MB/s\u001b[0m eta \u001b[36m0:00:00\u001b[0m\n",
            "\u001b[?25hInstalling collected packages: faiss-gpu\n",
            "Successfully installed faiss-gpu-1.7.2\n",
            "time: 5.33 s (started: 2024-12-06 07:35:15 +00:00)\n"
          ]
        }
      ],
      "source": [
        "!pip install faiss-gpu"
      ]
    },
    {
      "cell_type": "code",
      "source": [
        "import faiss\n",
        "import matplotlib.pyplot as plt"
      ],
      "metadata": {
        "id": "_6CFQ7sFYJ-p",
        "colab": {
          "base_uri": "https://localhost:8080/"
        },
        "outputId": "159fdca8-717e-48c5-ec2e-01160108d8af"
      },
      "execution_count": null,
      "outputs": [
        {
          "output_type": "stream",
          "name": "stdout",
          "text": [
            "time: 23.4 ms (started: 2024-12-06 07:35:21 +00:00)\n"
          ]
        }
      ]
    },
    {
      "cell_type": "code",
      "execution_count": null,
      "metadata": {
        "id": "eRRzTvl3CVtM",
        "colab": {
          "base_uri": "https://localhost:8080/"
        },
        "outputId": "f8653eda-d9f6-47bb-e3f1-5d70806eee50"
      },
      "outputs": [
        {
          "output_type": "stream",
          "name": "stdout",
          "text": [
            "time: 791 µs (started: 2024-12-06 07:35:21 +00:00)\n"
          ]
        }
      ],
      "source": [
        "#Using spheres\n",
        "#This code can be run.\n",
        "\n",
        "def correlation_dimension_faiss(data, max_radius, num_radii=20,k=100):\n",
        "    \"\"\"\n",
        "    Calculate the correlation dimension of the dataset using Faiss.\n",
        "\n",
        "    :param data: numpy array of shape (n_samples, n_features)\n",
        "    :param max_radius: maximum radius for correlation sum calculation\n",
        "    :param num_radii: number of radii to use for calculation\n",
        "    :return: radii, correlation_sum\n",
        "    \"\"\"\n",
        "    n_samples, n_features = data.shape\n",
        "\n",
        "    # Convert data to float32 (required by Faiss)\n",
        "    data = data.astype(np.float32)\n",
        "\n",
        "    # Create Faiss index\n",
        "    index = faiss.IndexFlatL2(n_features)\n",
        "    index.add(data)\n",
        "\n",
        "    # Generate radii\n",
        "    radii = np.logspace(-1, np.log10(max_radius), num_radii)\n",
        "\n",
        "    # Calculate correlation sum for each radius\n",
        "    correlation_sum = np.zeros(num_radii)\n",
        "    for i, r in enumerate(radii):\n",
        "        # Count number of neighbors within radius r for each point\n",
        "        #print(index.range_search(data, r**2))\n",
        "        #neighbors = index.range_search(data, r**2)  # Faiss uses squared distances\n",
        "        #correlation_sum[i] = len(neighbors) / (n_samples * (n_samples - 1))\n",
        "\n",
        "        distances, _ = index.search(data, k)\n",
        "\n",
        "        # Count number of neighbors within radius r for each point\n",
        "        count_within_radius = np.sum(distances < r**2, axis=1) - 1  # subtract 1 to exclude the point itself\n",
        "        total_count = np.sum(count_within_radius)\n",
        "        correlation_sum[i] = max(total_count / (n_samples * (n_samples - 1)), 1e-10)\n",
        "\n",
        "    return radii, correlation_sum\n",
        "\n",
        "def estimate_fractal_dimension(radii, correlation_sum):\n",
        "    \"\"\"\n",
        "    Estimate fractal dimension from the slope of log-log plot.\n",
        "\n",
        "    :param radii: array of radii used\n",
        "    :param correlation_sum: array of correlation sums\n",
        "    :return: estimated fractal dimension\n",
        "    \"\"\"\n",
        "    log_radii = np.log(radii)\n",
        "    log_correlation_sum = np.log(correlation_sum)\n",
        "\n",
        "    print(log_radii,log_correlation_sum)\n",
        "    # Linear regression to find slope\n",
        "    coeffs = np.polyfit(log_radii, log_correlation_sum, deg=1)\n",
        "    return coeffs[0]"
      ]
    },
    {
      "cell_type": "code",
      "execution_count": null,
      "metadata": {
        "id": "OuhrGk0iMMxF",
        "colab": {
          "base_uri": "https://localhost:8080/",
          "height": 139
        },
        "outputId": "c489e698-ccb8-4727-e7b6-398a1f66449d"
      },
      "outputs": [
        {
          "output_type": "execute_result",
          "data": {
            "text/plain": [
              "'if __name__ == \"__main__\":\\n\\n    n_samples, n_features = len(random_normalized_embeddings), len(list(random_normalized_embeddings.values())[0])\\n    embeddings_list = list(random_normalized_embeddings.values())\\n\\n    # Convert to a NumPy array with dtype float32\\n    word_embeddings_fractal = np.array(embeddings_list, dtype=np.float32)\\n\\n    # Calculate correlation dimension\\n    max_radius = np.sqrt(n_features)  # Maximum possible distance in the feature space\\n    radii, correlation_sum = correlation_dimension_faiss(word_embeddings_fractal, max_radius)\\n\\n    # Estimate fractal dimension\\n    fractal_dim = estimate_fractal_dimension(radii, correlation_sum)\\n\\n    print(f\"Estimated fractal dimension: {fractal_dim:.2f}\")\\n\\n    # Plot results\\n    plt.figure(figsize=(10, 6))\\n    plt.loglog(radii, correlation_sum, \\'bo-\\')\\n    plt.xlabel(\\'Radius (r)\\')\\n    plt.ylabel(\\'Correlation Sum C(r)\\')\\n    plt.title(\\'Correlation Dimension Analysis\\')\\n    plt.grid(True)\\n    plt.show()\\n\\n    #Word2vec google news - hugging face 3M words embeddings,Russian National corpus,, fasttext embeddings.\\n    #Complete works of shakesphere, word to word path connection, Projection wise fractal dimension calculation\\n    #Understand brazillians code.'"
            ],
            "application/vnd.google.colaboratory.intrinsic+json": {
              "type": "string"
            }
          },
          "metadata": {},
          "execution_count": 27
        },
        {
          "output_type": "stream",
          "name": "stdout",
          "text": [
            "time: 2.21 ms (started: 2024-12-06 07:35:21 +00:00)\n"
          ]
        }
      ],
      "source": [
        "\"\"\"if __name__ == \"__main__\":\n",
        "\n",
        "    n_samples, n_features = len(random_normalized_embeddings), len(list(random_normalized_embeddings.values())[0])\n",
        "    embeddings_list = list(random_normalized_embeddings.values())\n",
        "\n",
        "    # Convert to a NumPy array with dtype float32\n",
        "    word_embeddings_fractal = np.array(embeddings_list, dtype=np.float32)\n",
        "\n",
        "    # Calculate correlation dimension\n",
        "    max_radius = np.sqrt(n_features)  # Maximum possible distance in the feature space\n",
        "    radii, correlation_sum = correlation_dimension_faiss(word_embeddings_fractal, max_radius)\n",
        "\n",
        "    # Estimate fractal dimension\n",
        "    fractal_dim = estimate_fractal_dimension(radii, correlation_sum)\n",
        "\n",
        "    print(f\"Estimated fractal dimension: {fractal_dim:.2f}\")\n",
        "\n",
        "    # Plot results\n",
        "    plt.figure(figsize=(10, 6))\n",
        "    plt.loglog(radii, correlation_sum, 'bo-')\n",
        "    plt.xlabel('Radius (r)')\n",
        "    plt.ylabel('Correlation Sum C(r)')\n",
        "    plt.title('Correlation Dimension Analysis')\n",
        "    plt.grid(True)\n",
        "    plt.show()\n",
        "\n",
        "    #Word2vec google news - hugging face 3M words embeddings,Russian National corpus,, fasttext embeddings.\n",
        "    #Complete works of shakesphere, word to word path connection, Projection wise fractal dimension calculation\n",
        "    #Understand brazillians code.\"\"\"\n",
        "    #we don't randomize in this experiment"
      ]
    },
    {
      "cell_type": "markdown",
      "source": [
        "\n",
        "\n",
        "```\n",
        "# This is formatted as code\n",
        "**KeyboardInterrupt**                         Traceback (most recent call last)\n",
        "<ipython-input-26-e11b30dddfd9> in <cell line: 1>()\n",
        "      9     # Calculate correlation dimension\n",
        "     10     max_radius = np.sqrt(n_features)  # Maximum possible distance in the feature space\n",
        "---> 11     radii, correlation_sum = correlation_dimension_faiss(word_embeddings_fractal, max_radius)\n",
        "     12\n",
        "     13     # Estimate fractal dimension\n",
        "\n",
        "2 frames\n",
        "/usr/local/lib/python3.10/dist-packages/faiss/swigfaiss.py in search(self, n, x, k, distances, labels)\n",
        "   2144\n",
        "   2145     def search(self, n, x, k, distances, labels):\n",
        "-> 2146         return _swigfaiss.IndexFlat_search(self, n, x, k, distances, labels)\n",
        "   2147\n",
        "   2148     def range_search(self, n, x, radius, result):\n",
        "\n",
        "**KeyboardInterrupt**:\n",
        "```\n",
        "\n"
      ],
      "metadata": {
        "id": "qNycJnQayiEN"
      }
    },
    {
      "cell_type": "markdown",
      "source": [],
      "metadata": {
        "id": "C3OGpy35nEgs"
      }
    },
    {
      "cell_type": "code",
      "source": [
        "#Track progressive fractal dimension value, that is if I stop at 10^0 what is the fractal dimension before that?\n",
        "\n",
        "def correlation_dimension_faiss(data, max_radius, num_radii=20, k=100):\n",
        "    n_samples, n_features = data.shape\n",
        "    data = data.astype(np.float32)\n",
        "\n",
        "    index = faiss.IndexFlatL2(n_features)\n",
        "    index.add(data)\n",
        "\n",
        "    radii = np.logspace(-1, np.log10(max_radius), num_radii)\n",
        "    correlation_sum = np.zeros(num_radii)\n",
        "\n",
        "    distances, _ = index.search(data, k)\n",
        "\n",
        "    for i, r in enumerate(radii):\n",
        "        count_within_radius = np.sum(distances < r**2, axis=1) - 1\n",
        "        total_count = np.sum(count_within_radius)\n",
        "        correlation_sum[i] = max(total_count / (n_samples * (n_samples - 1)), 1e-10)\n",
        "\n",
        "    return radii, correlation_sum\n",
        "\n",
        "def estimate_fractal_dimension(radii, correlation_sum):\n",
        "    valid_indices = correlation_sum > 0\n",
        "    log_radii = np.log(radii[valid_indices])\n",
        "    log_correlation_sum = np.log(correlation_sum[valid_indices])\n",
        "\n",
        "    if len(log_radii) < 2:\n",
        "        return np.nan\n",
        "\n",
        "    coeffs = np.polyfit(log_radii, log_correlation_sum, deg=1)\n",
        "    return coeffs[0]\n",
        "\n",
        "def progressive_fractal_dimension(data, max_radius, num_radii=20, k=100):\n",
        "    radii, correlation_sum = correlation_dimension_faiss(data, max_radius, num_radii, k)\n",
        "    progressive_dimensions = []\n",
        "\n",
        "    for i in range(2, len(radii) + 1):\n",
        "        dim = estimate_fractal_dimension(radii[:i], correlation_sum[:i])\n",
        "        progressive_dimensions.append(dim)\n",
        "\n",
        "    return radii[1:], progressive_dimensions\n",
        "\n",
        "# Example usage\n",
        "if __name__ == \"__main__\":\n",
        "\n",
        "\n",
        "\n",
        "    n_samples, n_features = len(normalized_embeddings), len(list(normalized_embeddings.values())[0])\n",
        "    embeddings_list = list(normalized_embeddings.values())\n",
        "\n",
        "    embeddings_list = embeddings_list[0:] #embeddings_list[0:100000]\n",
        "\n",
        "    word_embeddings_fractal = np.array(embeddings_list, dtype=np.float32)\n",
        "\n",
        "    max_radius = np.sqrt(n_features)\n",
        "    radii, progressive_dims = progressive_fractal_dimension(word_embeddings_fractal, max_radius)\n",
        "\n",
        "    # Plot results\n",
        "    plt.figure(figsize=(12, 6))\n",
        "    plt.plot(radii, progressive_dims, 'bo-')\n",
        "    plt.xscale('log')\n",
        "    plt.xlabel('Maximum Radius')\n",
        "    plt.ylabel('Estimated Fractal Dimension')\n",
        "    plt.title('Progressive Fractal Dimension Analysis')\n",
        "    plt.grid(True)\n",
        "\n",
        "    # Add final estimated dimension to the plot\n",
        "    final_dim = progressive_dims[-1]\n",
        "    plt.axhline(y=final_dim, color='r', linestyle='--', label=f'Final Dimension: {final_dim:.2f}')\n",
        "    plt.legend()\n",
        "\n",
        "    plt.show()\n",
        "\n",
        "    print(f\"Final estimated fractal dimension: {final_dim:.2f}\")\n",
        "\n",
        "    # Print progressive dimensions\n",
        "    for i, (r, dim) in enumerate(zip(radii, progressive_dims)):\n",
        "        print(f\"Up to radius {r:.4f}: Estimated dimension = {dim:.2f}\")"
      ],
      "metadata": {
        "colab": {
          "base_uri": "https://localhost:8080/",
          "height": 933
        },
        "id": "GVYldSysevA-",
        "outputId": "761bb55e-7c84-42b7-88d2-3350fcd4018f"
      },
      "execution_count": null,
      "outputs": [
        {
          "output_type": "display_data",
          "data": {
            "text/plain": [
              "<Figure size 1200x600 with 1 Axes>"
            ],
            "image/png": "[encoded data removed]"
          },
          "metadata": {}
        },
        {
          "output_type": "stream",
          "name": "stdout",
          "text": [
            "Final estimated fractal dimension: 1.05\n",
            "Up to radius 0.1312: Estimated dimension = 1.33\n",
            "Up to radius 0.1720: Estimated dimension = 1.36\n",
            "Up to radius 0.2257: Estimated dimension = 1.40\n",
            "Up to radius 0.2960: Estimated dimension = 1.44\n",
            "Up to radius 0.3882: Estimated dimension = 1.54\n",
            "Up to radius 0.5092: Estimated dimension = 1.63\n",
            "Up to radius 0.6679: Estimated dimension = 1.74\n",
            "Up to radius 0.8761: Estimated dimension = 1.91\n",
            "Up to radius 1.1491: Estimated dimension = 2.03\n",
            "Up to radius 1.5073: Estimated dimension = 2.01\n",
            "Up to radius 1.9770: Estimated dimension = 1.92\n",
            "Up to radius 2.5932: Estimated dimension = 1.80\n",
            "Up to radius 3.4013: Estimated dimension = 1.67\n",
            "Up to radius 4.4613: Estimated dimension = 1.55\n",
            "Up to radius 5.8517: Estimated dimension = 1.43\n",
            "Up to radius 7.6754: Estimated dimension = 1.32\n",
            "Up to radius 10.0675: Estimated dimension = 1.22\n",
            "Up to radius 13.2051: Estimated dimension = 1.13\n",
            "Up to radius 17.3205: Estimated dimension = 1.05\n",
            "time: 9h 10min 21s (started: 2024-12-06 07:35:21 +00:00)\n"
          ]
        }
      ]
    },
    {
      "cell_type": "code",
      "source": [
        "#import faiss\n",
        "#import matplotlib.pyplot as plt\n",
        "\n",
        "def cluster_fractal_analysis(data, max_clusters, min_clusters=2):\n",
        "    #1st row - cluster_sizes\n",
        "    #2nd row - fractal dimension of each box/cluster\n",
        "    #3rd row - average.\n",
        "    n_samples, n_features = data.shape\n",
        "    data = data.astype(np.float32)\n",
        "\n",
        "    results = []\n",
        "\n",
        "    for k in range(min_clusters, max_clusters + 1):\n",
        "        kmeans = faiss.Kmeans(d=n_features, k=k, niter=300, verbose=False)\n",
        "        kmeans.train(data)\n",
        "        _, labels = kmeans.index.search(data, 1)\n",
        "\n",
        "        # Calculate cluster sizes\n",
        "        unique, counts = np.unique(labels, return_counts=True)\n",
        "        cluster_sizes = counts[counts > 0]\n",
        "\n",
        "        # Calculate fractal dimension for each cluster\n",
        "        cluster_fractal_dims = np.log(cluster_sizes) / np.log(k)\n",
        "\n",
        "        # Calculate total fractal dimension\n",
        "        log_n = np.log(k)\n",
        "        log_m = np.log(np.sum(cluster_sizes * np.log(cluster_sizes)))\n",
        "        total_dimension = log_m / log_n if log_n != 0 else np.nan\n",
        "\n",
        "        # Store results\n",
        "        results.append({\n",
        "            'num_clusters': k,\n",
        "            'cluster_sizes': cluster_sizes,\n",
        "            'cluster_fractal_dims': cluster_fractal_dims,\n",
        "            'total_fractal_dim': total_dimension\n",
        "        })\n",
        "\n",
        "    return results\n",
        "\n",
        "def cluster_fractal_dimension(data, max_clusters, min_clusters=2):\n",
        "    n_samples, n_features = data.shape\n",
        "    data = data.astype(np.float32)\n",
        "\n",
        "    dimensions = []\n",
        "    cluster_counts = range(min_clusters, max_clusters + 1)\n",
        "\n",
        "    for k in cluster_counts:\n",
        "        kmeans = faiss.Kmeans(d=n_features, k=k, niter=300, verbose=False)\n",
        "        kmeans.train(data)\n",
        "        _, labels = kmeans.index.search(data, 1)\n",
        "\n",
        "        # Calculate cluster sizes\n",
        "        unique, counts = np.unique(labels, return_counts=True)\n",
        "        cluster_sizes = counts[counts > 0]\n",
        "\n",
        "        # Calculate fractal dimension using box-counting method\n",
        "        log_n = np.log(k)\n",
        "        log_m = np.log(np.sum(cluster_sizes * np.log(cluster_sizes)))\n",
        "        dimension = log_m / log_n if log_n != 0 else np.nan\n",
        "\n",
        "        dimensions.append(dimension)\n",
        "\n",
        "    return cluster_counts, dimensions\n",
        "\n",
        "def progressive_fractal_dimension(data, max_clusters, min_clusters=2):\n",
        "    cluster_counts, dimensions = cluster_fractal_dimension(data, max_clusters, min_clusters)\n",
        "    return cluster_counts, dimensions\n",
        "\n",
        "# Example usage\n",
        "if __name__ == \"__main__\":\n",
        "    # Assuming random_normalized_embeddings is your dictionary of word embeddings\n",
        "    n_samples = len(normalized_embeddings)\n",
        "    n_features = len(list(normalized_embeddings.values())[0])\n",
        "    embeddings_list = list(normalized_embeddings.values())\n",
        "\n",
        "    word_embeddings_fractal = np.array(embeddings_list, dtype=np.float32)\n",
        "\n",
        "    word_embeddings_fractal = word_embeddings_fractal[0:100000]\n",
        "\n",
        "    max_clusters = min(50, n_samples // 2)  # Adjust based on your data size\n",
        "    cluster_counts, progressive_dims = progressive_fractal_dimension(word_embeddings_fractal, max_clusters)\n",
        "\n",
        "    # Plot results\n",
        "    plt.figure(figsize=(12, 6))\n",
        "    plt.plot(cluster_counts, progressive_dims, 'bo-')\n",
        "    plt.xscale('log')\n",
        "    plt.xlabel('Number of Clusters')\n",
        "    plt.ylabel('Estimated Fractal Dimension')\n",
        "    plt.title('Progressive Fractal Dimension Analysis using Clusters')\n",
        "    plt.grid(True)\n",
        "\n",
        "    # Add final estimated dimension to the plot\n",
        "    final_dim = progressive_dims[-1]\n",
        "    plt.axhline(y=final_dim, color='r', linestyle='--', label=f'Final Dimension: {final_dim:.2f}')\n",
        "    plt.legend()\n",
        "\n",
        "    plt.show()\n",
        "\n",
        "\n",
        "    results = cluster_fractal_analysis(word_embeddings_fractal, max_clusters)\n",
        "\n",
        "    # Print results\n",
        "    for result in results:\n",
        "        print(f\"\\nNumber of clusters: {result['num_clusters']}\")\n",
        "        print(\"Cluster sizes:\", result['cluster_sizes'])\n",
        "        print(\"Cluster fractal dimensions:\", result['cluster_fractal_dims'])\n",
        "        print(f\"Total fractal dimension: {result['total_fractal_dim']:.4f}\")"
      ],
      "metadata": {
        "colab": {
          "base_uri": "https://localhost:8080/",
          "height": 1000
        },
        "id": "Q8mBhfvdcl5G",
        "outputId": "4f4f2bf8-cb80-4267-fde6-cf71f012e409"
      },
      "execution_count": null,
      "outputs": [
        {
          "output_type": "display_data",
          "data": {
            "text/plain": [
              "<Figure size 1200x600 with 1 Axes>"
            ],
            "image/png": "[encoded data removed]"
          },
          "metadata": {}
        },
        {
          "output_type": "stream",
          "name": "stdout",
          "text": [
            "\n",
            "Number of clusters: 2\n",
            "Cluster sizes: [47667 52333]\n",
            "Cluster fractal dimensions: [15.54070321 15.67543334]\n",
            "Total fractal dimension: 20.0454\n",
            "\n",
            "Number of clusters: 3\n",
            "Cluster sizes: [39326 16457 44217]\n",
            "Cluster fractal dimensions: [9.63000438 8.83706317 9.73670577]\n",
            "Total fractal dimension: 12.6188\n",
            "\n",
            "Number of clusters: 4\n",
            "Cluster sizes: [15099 33593 17050 34258]\n",
            "Cluster fractal dimensions: [6.94108269 7.51793651 7.02874206 7.53207665]\n",
            "Total fractal dimension: 9.9795\n",
            "\n",
            "Number of clusters: 5\n",
            "Cluster sizes: [14252 17579 36341 15033 16795]\n",
            "Cluster fractal dimensions: [5.94285275 6.07321364 6.5244529  5.9760013  6.04486599]\n",
            "Total fractal dimension: 8.5826\n",
            "\n",
            "Number of clusters: 6\n",
            "Cluster sizes: [11946 22986 14839 13759 16834 19636]\n",
            "Cluster fractal dimensions: [5.23962727 5.60490445 5.36066045 5.31848644 5.43106153 5.51699046]\n",
            "Total fractal dimension: 7.6962\n",
            "\n",
            "Number of clusters: 7\n",
            "Cluster sizes: [15811 16882 21237 14213 14043  8000  9814]\n",
            "Cluster fractal dimensions: [4.96860617 5.00228813 5.12022625 4.91385089 4.90766716 4.61850555\n",
            " 4.72353013]\n",
            "Total fractal dimension: 7.0793\n",
            "\n",
            "Number of clusters: 8\n",
            "Cluster sizes: [15738  9353 13978 11986 12505 13543  4845 18052]\n",
            "Cluster fractal dimensions: [4.64732153 4.39707116 4.59029011 4.51635422 4.53673915 4.57508658\n",
            " 4.08076032 4.71329035]\n",
            "Total fractal dimension: 6.6184\n",
            "\n",
            "Number of clusters: 9\n",
            "Cluster sizes: [ 7038 11080 14286 13753 12870  9900 11299  9461 10313]\n",
            "Cluster fractal dimensions: [4.03194075 4.23848206 4.35414541 4.33684038 4.30663957 4.18723244\n",
            " 4.24738991 4.16658973 4.2058334 ]\n",
            "Total fractal dimension: 6.2564\n",
            "\n",
            "Number of clusters: 10\n",
            "Cluster sizes: [ 7357 11188 10698 14154  9048  7380  7110 10603 13121  9341]\n",
            "Cluster fractal dimensions: [3.86670076 4.04875246 4.02930259 4.15087919 3.95655259 3.86805636\n",
            " 3.8518696  4.02542876 4.11796694 3.97039337]\n",
            "Total fractal dimension: 5.9655\n",
            "\n",
            "Number of clusters: 11\n",
            "Cluster sizes: [12761  7984  7908 10699  7481  6087  6141  5575 10875  9679 14810]\n",
            "Cluster fractal dimensions: [3.94268633 3.74711728 3.74312852 3.86918714 3.71997971 3.63398299\n",
            " 3.63766632 3.59734126 3.87599157 3.82740396 4.0047862 ]\n",
            "Total fractal dimension: 5.7250\n",
            "\n",
            "Number of clusters: 12\n",
            "Cluster sizes: [ 5544  5270 15238 11928 10280  7464 11032  4517  4529  7997  7413  8788]\n",
            "Cluster fractal dimensions: [3.46913295 3.44873545 3.87601989 3.77746337 3.71762679 3.58880554\n",
            " 3.74603827 3.38668792 3.38775561 3.61656312 3.58604638 3.65452056]\n",
            "Total fractal dimension: 5.5217\n",
            "\n",
            "Number of clusters: 13\n",
            "Cluster sizes: [ 8942 11993  5926  6857  6018  4441  6330 10733  5429  9396  3599  8346\n",
            " 11990]\n",
            "Cluster fractal dimensions: [3.5472492  3.66170131 3.38685234 3.44374258 3.39285851 3.27438623\n",
            " 3.41256465 3.61842559 3.35270176 3.56655749 3.19242611 3.52035709\n",
            " 3.66160377]\n",
            "Total fractal dimension: 5.3455\n",
            "\n",
            "Number of clusters: 14\n",
            "Cluster sizes: [ 8063  6415  8547  6542 13600  6987  5621  5326  5995 11700  7447  1927\n",
            "  7243  4587]\n",
            "Cluster fractal dimensions: [3.40842955 3.32179001 3.43051874 3.3292184  3.60652456 3.3541547\n",
            " 3.27172311 3.25129571 3.29613191 3.54950384 3.37831484 2.86606872\n",
            " 3.36778995 3.19469433]\n",
            "Total fractal dimension: 5.1929\n",
            "\n",
            "Number of clusters: 15\n",
            "Cluster sizes: [10848  4684 10661  4957  6259  4913  5627  6529  6649  5716  9878  8157\n",
            "  4730  5187  5205]\n",
            "Cluster fractal dimensions: [3.43115353 3.12103067 3.42473249 3.14194914 3.22807003 3.13865675\n",
            " 3.18876353 3.24366552 3.25039091 3.19455841 3.39656382 3.32587325\n",
            " 3.12463945 3.15869727 3.15997649]\n",
            "Total fractal dimension: 5.0566\n",
            "\n",
            "Number of clusters: 16\n",
            "Cluster sizes: [ 5385  5277  4582  6913  4582  5422  9542  6054  4598 10570  7034  1509\n",
            "  8985  7087  4878  7582]\n",
            "Cluster fractal dimensions: [3.09868266 3.09137557 3.04044044 3.18877405 3.04044044 3.10115235\n",
            " 3.30501899 3.14091824 3.04169769 3.34192194 3.1950324  2.63984427\n",
            " 3.2833257  3.19773983 3.06301851 3.22209069]\n",
            "Total fractal dimension: 4.9370\n",
            "\n",
            "Number of clusters: 17\n",
            "Cluster sizes: [ 7166 10253  3037  6167  5844  6322  5165  5874  5572  1953  6406  7491\n",
            "  3941  5557  3573  6903  8776]\n",
            "Cluster fractal dimensions: [3.13322783 3.25966474 2.83022296 3.08023672 3.06124874 3.08899819\n",
            " 3.01765499 3.06305599 3.04442634 2.67439159 3.09365701 3.14888309\n",
            " 2.92219073 3.04347489 2.88759083 3.12003026 3.20476254]\n",
            "Total fractal dimension: 4.8287\n",
            "\n",
            "Number of clusters: 18\n",
            "Cluster sizes: [ 3894  4109  3128  4271  6038  5048  7353  8143  5741  1056  6483  6343\n",
            "  6747  7283 10021  6618  6304  1420]\n",
            "Cluster fractal dimensions: [2.8602522  2.87884593 2.7844685  2.89222424 3.01200982 2.95005214\n",
            " 3.08017944 3.11548641 2.99455898 2.40877093 3.03661237 3.02905919\n",
            " 3.05042188 3.07687    3.18728487 3.04374289 3.02692538 2.51123826]\n",
            "Total fractal dimension: 4.7322\n",
            "\n",
            "Number of clusters: 19\n",
            "Cluster sizes: [6135 5667 7489 3751 6868 5757 5250 1972 3384 4033 7735 2682 5154 6590\n",
            " 4633 6353 5884 3493 7170]\n",
            "Cluster fractal dimensions: [2.96211449 2.93516531 3.02984393 2.79502405 3.00044534 2.94051663\n",
            " 2.90920729 2.57665504 2.76005507 2.81964267 3.04082062 2.68109413\n",
            " 2.90293956 2.98641225 2.86674641 2.97397313 2.94792731 2.77082198\n",
            " 3.01506025]\n",
            "Total fractal dimension: 4.6416\n",
            "\n",
            "Number of clusters: 20\n",
            "Cluster sizes: [6360 3817 7412 6011 3421 7725 5810 4310 5022 3534 5735 5205 3398 1953\n",
            " 3246 6351 6124 5207 3625 5734]\n",
            "Cluster fractal dimensions: [2.92342    2.75298969 2.97451667 2.90458079 2.71642705 2.98832348\n",
            " 2.89322778 2.79353841 2.84457447 2.72727497 2.88889067 2.85652195\n",
            " 2.71417522 2.52930544 2.69889897 2.9229473  2.91079775 2.85665018\n",
            " 2.73576168 2.88883246]\n",
            "Total fractal dimension: 4.5600\n",
            "\n",
            "Number of clusters: 21\n",
            "Cluster sizes: [ 3926 11178  4851  3853  4757  3576  6886  3855  3887  5249  2194  5367\n",
            "  4317  3980  4632  4391  6516  2705  4226  5075  4579]\n",
            "Cluster fractal dimensions: [2.71811969 3.06179476 2.78760966 2.71195483 2.78118249 2.68744945\n",
            " 2.90267056 2.71212529 2.71484054 2.81350952 2.52699128 2.82081165\n",
            " 2.74930343 2.72260667 2.77243613 2.75488601 2.88452989 2.59576251\n",
            " 2.74230569 2.80243683 2.7686562 ]\n",
            "Total fractal dimension: 4.4855\n",
            "\n",
            "Number of clusters: 22\n",
            "Cluster sizes: [3802 4593 2934 6218 3960 4938 4111 4101 2839 4350 3774 5150 4874 3740\n",
            " 5971 6067 3083 5331 3402 4645 4932 7185]\n",
            "Cluster fractal dimensions: [2.66682928 2.72797569 2.58298683 2.82597335 2.68000179 2.75140694\n",
            " 2.69210848 2.69132057 2.57233839 2.71039018 2.66443792 2.76500634\n",
            " 2.74718654 2.66151016 2.81286001 2.81802002 2.59901265 2.77618125\n",
            " 2.63086609 2.73161782 2.75101361 2.8727366 ]\n",
            "Total fractal dimension: 4.4151\n",
            "\n",
            "Number of clusters: 23\n",
            "Cluster sizes: [3954 6420 4172 5046 4106 6062 5385 3611 5616 3006 1978 4113 3536 3758\n",
            " 3768 2514 5325 5569 4740 4359 4368 4338 4256]\n",
            "Cluster fractal dimensions: [2.64152393 2.79610575 2.65864015 2.71930054 2.65355444 2.77780613\n",
            " 2.74003777 2.61258336 2.75343354 2.55409993 2.42062048 2.65409769\n",
            " 2.60588949 2.62530932 2.62615686 2.4970961  2.7364643  2.75075321\n",
            " 2.69934876 2.67262427 2.67328209 2.67108408 2.66499775]\n",
            "Total fractal dimension: 4.3509\n",
            "\n",
            "Number of clusters: 24\n",
            "Cluster sizes: [3100 2530 4874 5664 4919 1713 2164 6423 5911 5710 4778 7375 1076 5905\n",
            " 2804 3235 4129 5179 4527 6636 1260 5817  845 3426]\n",
            "Cluster fractal dimensions: [2.52958503 2.46565194 2.67197181 2.71923828 2.67486361 2.34294379\n",
            " 2.41648318 2.75880808 2.73266935 2.72178344 2.66571234 2.80229715\n",
            " 2.19662917 2.73234979 2.49800748 2.5429979  2.61977643 2.69107061\n",
            " 2.64873259 2.7690735  2.24630147 2.72762527 2.12058605 2.56104809]\n",
            "Total fractal dimension: 4.2941\n",
            "\n",
            "Number of clusters: 25\n",
            "Cluster sizes: [4979 5067 2536 7078 5992 4323  925 3070 4086 4946 3065 2676 5075  736\n",
            " 5832 6151 2896 3577 3980 3800 4099 4949 4963 1789 3410]\n",
            "Cluster fractal dimensions: [2.64470729 2.65015014 2.43511827 2.75398839 2.70224171 2.60081635\n",
            " 2.12179472 2.49448356 2.58329996 2.64264138 2.49397718 2.45181201\n",
            " 2.65064024 2.05078744 2.69383342 2.71037792 2.47635702 2.54196812\n",
            " 2.57513416 2.56075624 2.5842868  2.64282976 2.64370735 2.32671668\n",
            " 2.52711444]\n",
            "Total fractal dimension: 4.2371\n",
            "\n",
            "Number of clusters: 26\n",
            "Cluster sizes: [3644 3688 3871 1963 4282 5444 3481 2850 4903 2381 4364 6260 4949 3726\n",
            " 4328 3766 3391 2803 5614 3957 3444 4605 3486 3384  837 4579]\n",
            "Cluster fractal dimensions: [2.51706392 2.52074777 2.53561184 2.32719599 2.56658309 2.64027455\n",
            " 2.50301819 2.44163246 2.6081494  2.38644735 2.57240516 2.68314194\n",
            " 2.61101558 2.52389408 2.56986272 2.5271715  2.49497829 2.43652865\n",
            " 2.64971239 2.54235605 2.49973835 2.58890363 2.50345873 2.49434405\n",
            " 2.06556926 2.58716579]\n",
            "Total fractal dimension: 4.1833\n",
            "\n",
            "Number of clusters: 27\n",
            "Cluster sizes: [3423 4453 1238 3143 4369 5484 3651 4427 3653 4585 4589 2598 1456 5577\n",
            " 3479 3743 2696 4023 5078  917 6070 3294 3915 3280 1124 4853 4882]\n",
            "Cluster fractal dimensions: [2.46925833 2.54907438 2.16068111 2.44336518 2.54329622 2.61226219\n",
            " 2.48882354 2.54729763 2.4889897  2.5579377  2.55820229 2.38558446\n",
            " 2.20989343 2.61736446 2.47418198 2.49637438 2.39681902 2.51826274\n",
            " 2.58892449 2.0696132  2.64306585 2.4576028  2.51000609 2.4563105\n",
            " 2.13137037 2.57517368 2.57698138]\n",
            "Total fractal dimension: 4.1350\n",
            "\n",
            "Number of clusters: 28\n",
            "Cluster sizes: [ 1110  2888  1137  3859  4196  3557  3519  3080   813  4046  5765  2358\n",
            "  2952  2680 11153  3442  3683  4703  2974  4028  2215  1818  6604  3607\n",
            "  2504  3177  3206  4926]\n",
            "Cluster fractal dimensions: [2.10434722 2.39130566 2.11155962 2.47828827 2.50341386 2.45383281\n",
            " 2.45060953 2.41062181 2.01090032 2.49248928 2.59874819 2.33045993\n",
            " 2.39788349 2.36887383 2.79678626 2.44397004 2.4642794  2.53764613\n",
            " 2.40011173 2.4911512  2.31168515 2.25241045 2.63952311 2.45802191\n",
            " 2.34848873 2.41992729 2.42265422 2.55154885]\n",
            "Total fractal dimension: 4.0904\n",
            "\n",
            "Number of clusters: 29\n",
            "Cluster sizes: [1106 3384 4093 2927 2537  884 4441 3410 1831 3786 2907 4779 4115 2631\n",
            " 4745 3368 2822 3273 6168 5253 4613 3400 3601 4223 2360 4564 3049 4827\n",
            "  903]\n",
            "Cluster fractal dimensions: [2.08134525 2.41345404 2.4699444  2.37036889 2.32790285 2.01480874\n",
            " 2.4941779  2.41572703 2.23105362 2.44678987 2.36833272 2.51596148\n",
            " 2.47153637 2.33870728 2.51384112 2.41204658 2.35951978 2.40354952\n",
            " 2.59173246 2.54404574 2.50546258 2.41485486 2.43191192 2.47923006\n",
            " 2.30642548 2.5022912  2.38249603 2.51892939 2.02112404]\n",
            "Total fractal dimension: 4.0447\n",
            "\n",
            "Number of clusters: 30\n",
            "Cluster sizes: [2567 5426  569 1117 3702 1833 1682 2450 4114 6102 4093 4488 1866 4191\n",
            " 3608 2008 3776 6278 2539 3656 4634 1097 2983 3920 3182 5492 4329 2512\n",
            " 3374 2412]\n",
            "Cluster fractal dimensions: [2.30815572 2.52821478 1.86519032 2.06350912 2.41580466 2.20913649\n",
            " 2.18385998 2.29444    2.44682979 2.56273626 2.44532514 2.47241236\n",
            " 2.21438262 2.45228186 2.40824273 2.23594624 2.4216238  2.57109652\n",
            " 2.30493109 2.41212844 2.48182471 2.05819706 2.35231417 2.43262769\n",
            " 2.37130172 2.53176949 2.4618071  2.30178777 2.38852773 2.28984404]\n",
            "Total fractal dimension: 4.0040\n",
            "\n",
            "Number of clusters: 31\n",
            "Cluster sizes: [4016 4411 4308 4257 2242  563 4656 3285 2463 3246 3605 3698 1696 1271\n",
            " 4342 2400 2816 2948 1237 2059 3376 2051 4799 3676 2574 2890 2959 3046\n",
            " 5011 4640 5459]\n",
            "Cluster fractal dimensions: [2.41644513 2.4437647  2.43688416 2.43341616 2.2466955  1.84429331\n",
            " 2.45950596 2.35793596 2.27407236 2.35445803 2.38500512 2.39242226\n",
            " 2.16542094 2.08141698 2.43917343 2.2665268  2.3130758  2.32641585\n",
            " 2.07352094 2.22189987 2.36589316 2.22076621 2.46831521 2.39068465\n",
            " 2.28690904 2.32062943 2.32750042 2.33593897 2.48090347 2.45850352\n",
            " 2.50583954]\n",
            "Total fractal dimension: 3.9637\n",
            "\n",
            "Number of clusters: 32\n",
            "Cluster sizes: [1799 4338 5982  711 2202 5866 2460 3389 2374 1967 2110 5068 3089 1098\n",
            " 3880  724 3279 1796 2545 2751 1902 1767 2451 2949 4620 3276 4706 4581\n",
            " 5110 4299 3985 2926]\n",
            "Cluster fractal dimensions: [2.16259589 2.41656287 2.50928244 1.89474115 2.22091975 2.50363227\n",
            " 2.25288852 2.34532878 2.24262084 2.18835625 2.20860546 2.46144016\n",
            " 2.31858483 2.02013247 2.38436819 1.89996918 2.33580804 2.16211433\n",
            " 2.26268999 2.28514808 2.17866031 2.15741726 2.25183095 2.30520202\n",
            " 2.43473543 2.33554393 2.44005712 2.43228937 2.46382152 2.41395708\n",
            " 2.3920728  2.30294281]\n",
            "Total fractal dimension: 3.9273\n",
            "\n",
            "Number of clusters: 33\n",
            "Cluster sizes: [2136 4469 1919 4391 3065 3247 4778 2457 1687 1541 2575 2411 2449 2752\n",
            " 2481 2092 3542 6267 2760 1850 4302 3294 3442 2916 4092 1698 5451 2890\n",
            " 3647  520 3046 2419 3414]\n",
            "Cluster fractal dimensions: [2.19267085 2.40380431 2.1620315  2.39876852 2.29594895 2.31244653\n",
            " 2.4229255  2.23271257 2.12517975 2.09929099 2.24612837 2.22730732\n",
            " 2.23177983 2.26514116 2.23549266 2.18671794 2.33731707 2.50051027\n",
            " 2.26597135 2.1515586  2.39291212 2.31655667 2.32912637 2.28169622\n",
            " 2.37859893 2.12703855 2.46061369 2.27913472 2.34567209 1.78859296\n",
            " 2.29417051 2.22825473 2.32679031]\n",
            "Total fractal dimension: 3.8907\n",
            "\n",
            "Number of clusters: 34\n",
            "Cluster sizes: [3736 1792 2954 2633 2500 3518 3104 2703 4144 3363 2505 3079 4953 4131\n",
            " 3880 1771 1430 2336 4148 5170 1316 3540 2936 2639 2028 2680 3542 1888\n",
            " 3575 1960  728 3601 2907 2810]\n",
            "Cluster fractal dimensions: [2.33265168 2.12431132 2.26605176 2.23342994 2.21873117 2.31560213\n",
            " 2.2800978  2.24087058 2.36204345 2.3028243  2.21929776 2.27780458\n",
            " 2.41261456 2.36115245 2.34337651 2.12096851 2.06031961 2.19949018\n",
            " 2.36231704 2.42477419 2.03676058 2.31736998 2.2643185  2.23407541\n",
            " 2.15939502 2.23844727 2.31753015 2.13911008 2.32015995 2.1497234\n",
            " 1.86886763 2.32221487 2.26150357 2.25187972]\n",
            "Total fractal dimension: 3.8562\n",
            "\n",
            "Number of clusters: 35\n",
            "Cluster sizes: [3488 2621 1977 3659 3777 1754 3614 2688 1723 4070 3863 2186 3057 3540\n",
            " 1164 2697 2796 4096 1386 3766 6109 4482  520 3267 2794 3159 2053 2539\n",
            " 3228 2281 1904 2481 2187 2872 2202]\n",
            "Cluster fractal dimensions: [2.29431371 2.21393548 2.13462527 2.3077755  2.31670294 2.10096284\n",
            " 2.30429492 2.22103506 2.09594732 2.33771719 2.32303539 2.16289053\n",
            " 2.25721622 2.29847595 1.98563333 2.22197523 2.23211482 2.33950826\n",
            " 2.03473107 2.3158826  2.45194513 2.36483869 1.758992   2.27590303\n",
            " 2.23191356 2.2664478  2.14523509 2.20499525 2.27252519 2.17485576\n",
            " 2.12404301 2.19849558 2.16301917 2.23965806 2.16494171]\n",
            "Total fractal dimension: 3.8240\n",
            "\n",
            "Number of clusters: 36\n",
            "Cluster sizes: [1872 2300 2479 3652 2322  733 1916 3914 3745 4397 2754 1870 3598 3978\n",
            " 2418 2834 3811 3644 1714 2791 2671 3465 4450  516 2660 2216 2749 1796\n",
            " 1440 1834 2276 3647 2444 3764 2427 4903]\n",
            "Cluster fractal dimensions: [2.10261555 2.16007353 2.18098765 2.28909917 2.16273007 1.84096856\n",
            " 2.10909865 2.3084335  2.29611648 2.3409051  2.21034403 2.10231726\n",
            " 2.28494214 2.31295958 2.17403512 2.2183347  2.30099158 2.28848721\n",
            " 2.07800914 2.21406817 2.20180452 2.27443138 2.34424863 1.74300928\n",
            " 2.20065292 2.14969118 2.20983693 2.09104999 2.02940141 2.09689269\n",
            " 2.15714635 2.28871685 2.1770197  2.29752867 2.17507186 2.37130114]\n",
            "Total fractal dimension: 3.7931\n",
            "\n",
            "Number of clusters: 37\n",
            "Cluster sizes: [1561 1712 4211 2411  753 2975 3837 3211 3032 3082 2815 4400 3543 3144\n",
            " 2912 4521 4336 2264 4451  522 1966 1839 3178 2031 1313 2505 2685 2136\n",
            " 2417 3079 1112 4822 1985 2760 3776 1653 1050]\n",
            "Cluster fractal dimensions: [2.03634702 2.06191825 2.31117285 2.15673606 1.83445467 2.21494908\n",
            " 2.28541504 2.23609007 2.22020493 2.2247346  2.19963946 2.32333164\n",
            " 2.26333838 2.23025041 2.20902153 2.33084459 2.31927386 2.13931433\n",
            " 2.32652314 1.73298528 2.10022949 2.08173584 2.23322921 2.10923753\n",
            " 1.98843343 2.16732814 2.18654542 2.12319703 2.15742439 2.2244649\n",
            " 1.94241898 2.34869478 2.10289305 2.19417504 2.28097695 2.05220591\n",
            " 1.92653104]\n",
            "Total fractal dimension: 3.7639\n",
            "\n",
            "Number of clusters: 38\n",
            "Cluster sizes: [2510 1952 3151 2427 2288  521 2062 2182 4379 2656 2999 1215 3179 3418\n",
            " 2405 1784 3962 4450 3386 1110 2100 2826  991 6015 3956 2248 3258 3274\n",
            " 2672 3018 2251 2321 1036 2348 2368 2605 2966 1711]\n",
            "Cluster fractal dimensions: [2.15198697 2.08286744 2.21451116 2.1427427  2.12652925 1.71975309\n",
            " 2.09793839 2.11348868 2.30498339 2.16752983 2.20091946 1.95253089\n",
            " 2.21694322 2.23687097 2.14023939 2.05812673 2.27747299 2.30940492\n",
            " 2.2342851  1.92768363 2.10295847 2.18458539 1.8965089  2.39224894\n",
            " 2.27705636 2.12168066 2.22369133 2.22503809 2.16918093 2.20265563\n",
            " 2.12204729 2.13046594 1.90871697 2.13364546 2.13597717 2.16219977\n",
            " 2.19787771 2.04664108]\n",
            "Total fractal dimension: 3.7351\n",
            "\n",
            "Number of clusters: 39\n",
            "Cluster sizes: [2267 2403 1822 1659 2510 2777 1838 2369 1473 2118 2026 3832 6318 1866\n",
            " 2029 2770 2604 3240 2331 2440 2437  520 1500 4076 1197 2801 3224 5217\n",
            " 1983 1481 3014 2497 1380 3599 3341 1894 2453 4414 2280]\n",
            "Cluster fractal dimensions: [2.1089348  2.12483752 2.04928722 2.02370562 2.1367289  2.16432184\n",
            " 2.05167376 2.12094785 1.99124708 2.09037769 2.07825592 2.25221872\n",
            " 2.38870226 2.05580064 2.07865981 2.16363292 2.14676448 2.20641261\n",
            " 2.11653396 2.12900835 2.12867253 1.70703523 1.99620508 2.26906824\n",
            " 1.93461292 2.16667073 2.20506133 2.33643613 2.07240027 1.99272553\n",
            " 2.18667629 2.13531149 1.97344537 2.23509582 2.21479157 2.05986605\n",
            " 2.13045877 2.29081353 2.1104956 ]\n",
            "Total fractal dimension: 3.7079\n",
            "\n",
            "Number of clusters: 40\n",
            "Cluster sizes: [2404 3773 2691 3540 5328 1139 2517  930 2227  987 1769 1374 3600 1791\n",
            " 1882 3396 1929 1077 3059  525 1926 3507 1760 4237 2312 3503  236 3765\n",
            " 3042 2795 2689 5921 1905 2299 1790 2579 1957 3720 1984 2135]\n",
            "Cluster fractal dimensions: [2.11036695 2.23255485 2.14093961 2.21527488 2.32610778 1.90787095\n",
            " 2.12281889 1.85291622 2.08963474 1.86904184 2.02721986 1.95871987\n",
            " 2.21983104 2.03057039 2.04400562 2.20401714 2.05069239 1.89269798\n",
            " 2.17568599 1.69791351 2.05027046 2.21273597 2.02583716 2.26399666\n",
            " 2.09978893 2.2124266  1.48116301 2.23197945 2.17417527 2.15121895\n",
            " 2.14073806 2.35471523 2.04729848 2.09826036 2.03041899 2.12941548\n",
            " 2.05459898 2.22871987 2.05831347 2.07819801]\n",
            "Total fractal dimension: 3.6826\n",
            "\n",
            "Number of clusters: 41\n",
            "Cluster sizes: [2270 1295 2576 2113 2305 3513 2337 1879 2435 1339 1642 4263  805 2061\n",
            " 4308 3002 2650 3638 2280 1126 3540 3712 2711 1732 3439 1596 2679 3120\n",
            " 4029 2061 1842 2791 1105 2174 2218 3516 1866 3606 1910 2045  471]\n",
            "Cluster fractal dimensions: [2.08089004 1.92975007 2.11494296 2.06159026 2.08501029 2.19848316\n",
            " 2.08872299 2.02998484 2.09978476 1.93874744 1.9936789  2.25059007\n",
            " 1.80172679 2.05488043 2.2534177  2.1561542  2.12256953 2.20789827\n",
            " 2.0820737  1.89209383 2.20054488 2.21332075 2.12869784 2.0080483\n",
            " 2.19275023 1.98602737 2.12550039 2.16653619 2.23538774 2.05488043\n",
            " 2.02462941 2.13652922 1.88702427 2.06925406 2.0746497  2.19871302\n",
            " 2.02811531 2.20551918 2.03439125 2.05278178 1.65739562]\n",
            "Total fractal dimension: 3.6560\n",
            "\n",
            "Number of clusters: 42\n",
            "Cluster sizes: [2660 3176 3687 2281 2151 1406 1709 1954 3543 4418 2390 3645 1580 2658\n",
            " 2724 3452  969 2770 1703 3721 1084  788 3256 3935 1892 2692 2078 4071\n",
            " 2023 1831 3262 1786 3448  502 2252 3201 1616 1636 2554  948 1900  648]\n",
            "Cluster fractal dimensions: [2.10989258 2.1573276  2.197243   2.06876744 2.05306753 1.93931107\n",
            " 1.99152532 2.02736855 2.18658414 2.24563518 2.08125635 2.19417779\n",
            " 1.97052733 2.10969134 2.11625357 2.17962257 1.83971975 2.12073388\n",
            " 1.99058436 2.19969889 1.86972469 1.78440011 2.16398332 2.21465967\n",
            " 2.01874176 2.11309198 2.04382997 2.2237503  2.03665321 2.00997368\n",
            " 2.16447589 2.00331611 2.17931237 1.66376399 2.06534413 2.15942535\n",
            " 1.97655491 1.97984581 2.09901271 1.83385778 2.01987065 1.73206606]\n",
            "Total fractal dimension: 3.6322\n",
            "\n",
            "Number of clusters: 43\n",
            "Cluster sizes: [1516 3003 1843 1262 2933 1197 1090 2958 1269 2947 2419 2912 1560 1671\n",
            " 3823 1061 3395 4121 1497 2359 2351 2477 3563 2206 3281 3437  519 1858\n",
            " 2173 3213 1759 2818 2409 1986 2176 2240 1944 2961 1548 3511 2791 1828\n",
            " 2115]\n",
            "Cluster fractal dimensions: [1.94720577 2.12893939 1.99913584 1.89845071 2.12266852 1.88439155\n",
            " 1.85949504 2.12492513 1.89992137 2.12393458 2.07144243 2.12075805\n",
            " 1.95481253 1.97308766 2.19312732 1.85232557 2.16155982 2.21308382\n",
            " 1.94385254 2.06476466 2.06386148 2.07774199 2.17440123 2.04693607\n",
            " 2.15247881 2.16482879 1.66220985 2.00129099 2.04292878 2.14691059\n",
            " 1.98673309 2.11203404 2.07034105 2.01900394 2.04329559 2.05100258\n",
            " 2.01332095 2.12519464 1.95275945 2.17049238 2.10947437 1.99696308\n",
            " 2.0357359 ]\n",
            "Total fractal dimension: 3.6077\n",
            "\n",
            "Number of clusters: 44\n",
            "Cluster sizes: [ 825 2016 2482 1525 2835  603  912 3470 1778 2388 2002  765 3034 1815\n",
            " 3237 1616  493 1985 2597 1599 2705 1821 2858 4217 3873 3854 3779 2876\n",
            " 1553 2850 2095 3304 4985 1549 3279 2534 1910 1480 1642 3523 2621  528\n",
            " 1095 1092]\n",
            "Cluster fractal dimensions: [1.77458955 2.01070014 2.06565229 1.93694038 2.1007925  1.6917538\n",
            " 1.8010831  2.15420226 1.97750249 2.05544971 2.00885862 1.75463612\n",
            " 2.11871971 1.98294522 2.13583436 1.95225661 1.63853025 2.00660509\n",
            " 2.0776211  1.94946195 2.08838826 1.98381736 2.10292774 2.20572436\n",
            " 2.18323749 2.18193792 2.17674469 2.10458684 1.94174831 2.10218701\n",
            " 2.02085772 2.14124817 2.24993711 1.94106679 2.13924104 2.0711315\n",
            " 1.99642704 1.92902525 1.95647444 2.15820796 2.080052   1.6566549\n",
            " 1.84940775 1.84868277]\n",
            "Total fractal dimension: 3.5866\n",
            "\n",
            "Number of clusters: 45\n",
            "Cluster sizes: [1017  239 2422 2328 3374 2923 1089 2164 1101 1517 2559 2165 2004 3769\n",
            " 1492 2193 3309 3941 1151 2242 2215 2802 1498 2628 2799 1895 1680 2114\n",
            " 2672 3408 1678  467 3455 3067 1279 2722 2285 1430 2621 2334  968 2317\n",
            " 2692 3594 2381]\n",
            "Cluster fractal dimensions: [1.81907706 1.43865225 2.04702911 2.03663047 2.13411467 2.09642063\n",
            " 1.83704627 2.01744012 1.83992517 1.92412382 2.06148348 2.01756149\n",
            " 1.99726151 2.16319808 1.91975853 2.02093718 2.12900443 2.17492089\n",
            " 1.85159216 2.02674222 2.0235594  2.08531456 1.92081283 2.06847295\n",
            " 2.08503315 1.98256981 1.95093447 2.01129919 2.07283481 2.13674864\n",
            " 1.95062155 1.61462417 2.14034676 2.10905358 1.8792929  2.07770513\n",
            " 2.03173287 1.90860885 2.06777229 2.03730665 1.80610498 2.03538626\n",
            " 2.07479379 2.15070842 2.04254406]\n",
            "Total fractal dimension: 3.5637\n",
            "\n",
            "Number of clusters: 46\n",
            "Cluster sizes: [2789 1378 2142 2127 2932 1729 2006 3923  999  957  242 1619 4857 1076\n",
            " 4409 3959 1820 2572 1416 2757 1558 4590 2521 1990 1633 1076  511 1180\n",
            " 2432 1493 2565 2866 1936 1746 1838 1743 2358 2172  717 5080 1426 2524\n",
            " 1819 2215 1529 2773]\n",
            "Cluster fractal dimensions: [2.07212887 1.88797741 2.00318976 2.00135427 2.08518877 1.94724387\n",
            " 1.98605646 2.16123974 1.80397015 1.79275171 1.43365156 1.93007472\n",
            " 2.21702044 1.8233637  2.19174436 2.16362565 1.96064113 2.05097273\n",
            " 1.89508249 2.06911476 1.92004355 2.20225256 2.04574159 1.98396484\n",
            " 1.93232359 1.8233637  1.62887274 1.84746206 2.03635401 1.90891286\n",
            " 2.0502609  2.07924216 1.97677935 1.94979941 1.96321163 1.94935025\n",
            " 2.02828322 2.0068225  1.71733917 2.22874531 1.89692056 2.04605222\n",
            " 1.96049758 2.01194285 1.91513606 2.07062616]\n",
            "Total fractal dimension: 3.5438\n",
            "\n",
            "Number of clusters: 47\n",
            "Cluster sizes: [1962 1384 1657 1697 3227 3922 2661 1941 3068 2128 1694 3742 1720 2660\n",
            " 2556 1582 1939 3211  888 1632 2108 1968 2496 3212 2610 1170 1762 2181\n",
            " 1496 2028 1689  515 2240 1082 1331 2297 2096 2180 2373 1084 3026 2217\n",
            " 1875  955 3287 3522 1929]\n",
            "Cluster fractal dimensions: [1.96920233 1.87855996 1.92531944 1.93151485 2.09844116 2.14910125\n",
            " 2.04835193 1.96640736 2.08531776 1.99029716 1.93105529 2.13689873\n",
            " 1.93501142 2.04825431 2.03789559 1.91328902 1.9661396  2.09715017\n",
            " 1.76330168 1.92137089 1.98784455 1.9699954  2.03172593 2.09723104\n",
            " 2.04332569 1.834932   1.94127747 1.99668677 1.8987714  1.9777957\n",
            " 1.93028753 1.62179936 2.00361959 1.81462302 1.86841819 2.0101461\n",
            " 1.98636178 1.99656765 2.0186006  1.81510267 2.08173757 2.00093893\n",
            " 1.95742208 1.78219436 2.10322601 2.12116135 1.96479662]\n",
            "Total fractal dimension: 3.5214\n",
            "\n",
            "Number of clusters: 48\n",
            "Cluster sizes: [2611 1885 2127 1742 1124 1619 2271 1455 2448 3287 1325 2044 1116 5404\n",
            " 1082 2969 4357 1447 1684 3353 2181 1811 1905 2102 2923 1310 3345 2055\n",
            " 3294 2306 2613 1918 1575 1435 1408 1283  458 1050 2291  977 1309 1615\n",
            " 3413 1063 2931 2403 1567 2109]\n",
            "Cluster fractal dimensions: [2.03231208 1.94815074 1.97935157 1.92777103 1.81459165 1.90885566\n",
            " 1.99627338 1.8812666  2.01566042 2.09178768 1.85708976 1.96906953\n",
            " 1.81274652 2.220214   1.80475425 2.06550382 2.16458381 1.87984238\n",
            " 1.91902388 2.09692308 1.98582785 1.93780546 1.95087707 1.97629742\n",
            " 2.06147026 1.85414872 2.09630602 1.97045597 2.09233721 2.00022414\n",
            " 2.03250987 1.95263388 1.90173812 1.87769121 1.87278457 1.84876899\n",
            " 1.58267917 1.79699928 1.99853835 1.77838522 1.85395146 1.90821665\n",
            " 2.10150466 1.80017787 2.06217629 2.01086774 1.90042269 1.97715623]\n",
            "Total fractal dimension: 3.5024\n",
            "\n",
            "Number of clusters: 49\n",
            "Cluster sizes: [1435 2485 1856 1945 1811 1287  495 2862 2410 2442 2304 1068 3555 1709\n",
            " 2010 1709 1973 1077 2494 3877 2021 1483 1200 1747 1757 2540 1797 1592\n",
            " 2271 3312 1309 2564 2048 1327 2316 3793 2375 1867 2941 1719 2460 3169\n",
            " 2013 2496 1571  955  715 1024 2814]\n",
            "Cluster fractal dimensions: [1.867743   2.0088358  1.93384543 1.94588051 1.92753876 1.83977385\n",
            " 1.59425597 2.04512936 2.00096136 2.00435068 1.98940378 1.7918461\n",
            " 2.10084478 1.91264321 1.95432713 1.91264321 1.94955315 1.79400233\n",
            " 2.00976472 2.12312396 1.95572949 1.8761972  1.82178937 1.91829394\n",
            " 1.91976055 2.01446078 1.92554468 1.89442107 1.98569691 2.08265205\n",
            " 1.84412902 2.01687725 1.95913953 1.84763825 1.99073859 2.11749565\n",
            " 1.99720237 1.93536381 2.05212582 1.91414234 2.00623771 2.0713113\n",
            " 1.95471035 2.00997069 1.89100911 1.76311104 1.68874255 1.78103594\n",
            " 2.04078339]\n",
            "Total fractal dimension: 3.4824\n",
            "\n",
            "Number of clusters: 50\n",
            "Cluster sizes: [1179  231 4088 2173  915 2093 2543 2887 1206 1230 2660  491 1839 2864\n",
            "  293 2000 1153 2083 2805 2434 2524 1682 2238 1912 1542  672 1837 4043\n",
            " 1632 2250 2285 1706  939 2374 1422 1965 3600 2042 2062 1276 2992 1185\n",
            " 1693 2981  791 1975 3419 2717 3163 1914]\n",
            "Cluster fractal dimensions: [1.80786818 1.39120289 2.12570609 1.96416636 1.7430685  1.9545779\n",
            " 2.00435932 2.03679098 1.8136561  1.81869315 2.01585762 1.5839488\n",
            " 1.9215064  2.03474635 1.45197832 1.94295955 1.80216796 1.95335366\n",
            " 2.02942539 1.99316089 2.00244227 1.89869508 1.97170054 1.93145722\n",
            " 1.87648067 1.66416668 1.92122824 2.12287664 1.89098109 1.97306751\n",
            " 1.97701325 1.90231671 1.74968692 1.98678064 1.8557712  1.93844656\n",
            " 2.09321088 1.94827203 1.95076349 1.82807858 2.04592287 1.80916575\n",
            " 1.90036137 2.04498135 1.70584323 1.93974413 2.08002442 2.02127738\n",
            " 2.06013007 1.93172447]\n",
            "Total fractal dimension: 3.4650\n",
            "time: 3min 42s (started: 2024-12-06 16:45:42 +00:00)\n"
          ]
        }
      ]
    }
  ],
  "metadata": {
    "colab": {
      "provenance": [],
      "machine_shape": "hm",
      "gpuType": "A100"
    },
    "kernelspec": {
      "display_name": "Python 3",
      "name": "python3"
    },
    "language_info": {
      "codemirror_mode": {
        "name": "ipython",
        "version": 3
      },
      "file_extension": ".py",
      "mimetype": "text/x-python",
      "name": "python",
      "nbconvert_exporter": "python",
      "pygments_lexer": "ipython3",
      "version": "3.10.9"
    },
    "accelerator": "GPU"
  },
  "nbformat": 4,
  "nbformat_minor": 0
}